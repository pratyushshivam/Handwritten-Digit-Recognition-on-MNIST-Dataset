{
 "cells": [
  {
   "cell_type": "code",
   "execution_count": 1,
   "metadata": {},
   "outputs": [],
   "source": [
    "from sklearn.datasets import fetch_openml"
   ]
  },
  {
   "cell_type": "markdown",
   "metadata": {},
   "source": [
    "mnist = fetch_openml('mnist_784')"
   ]
  },
  {
   "cell_type": "code",
   "execution_count": 4,
   "metadata": {},
   "outputs": [
    {
     "data": {
      "text/plain": [
       "{'DESCR': u\"**Author**: Yann LeCun, Corinna Cortes, Christopher J.C. Burges  \\n**Source**: [MNIST Website](http://yann.lecun.com/exdb/mnist/) - Date unknown  \\n**Please cite**:  \\n\\nThe MNIST database of handwritten digits with 784 features, raw data available at: http://yann.lecun.com/exdb/mnist/. It can be split in a training set of the first 60,000 examples, and a test set of 10,000 examples  \\n\\nIt is a subset of a larger set available from NIST. The digits have been size-normalized and centered in a fixed-size image. It is a good database for people who want to try learning techniques and pattern recognition methods on real-world data while spending minimal efforts on preprocessing and formatting. The original black and white (bilevel) images from NIST were size normalized to fit in a 20x20 pixel box while preserving their aspect ratio. The resulting images contain grey levels as a result of the anti-aliasing technique used by the normalization algorithm. the images were centered in a 28x28 image by computing the center of mass of the pixels, and translating the image so as to position this point at the center of the 28x28 field.  \\n\\nWith some classification methods (particularly template-based methods, such as SVM and K-nearest neighbors), the error rate improves when the digits are centered by bounding box rather than center of mass. If you do this kind of pre-processing, you should report it in your publications. The MNIST database was constructed from NIST's NIST originally designated SD-3 as their training set and SD-1 as their test set. However, SD-3 is much cleaner and easier to recognize than SD-1. The reason for this can be found on the fact that SD-3 was collected among Census Bureau employees, while SD-1 was collected among high-school students. Drawing sensible conclusions from learning experiments requires that the result be independent of the choice of training set and test among the complete set of samples. Therefore it was necessary to build a new database by mixing NIST's datasets.  \\n\\nThe MNIST training set is composed of 30,000 patterns from SD-3 and 30,000 patterns from SD-1. Our test set was composed of 5,000 patterns from SD-3 and 5,000 patterns from SD-1. The 60,000 pattern training set contained examples from approximately 250 writers. We made sure that the sets of writers of the training set and test set were disjoint. SD-1 contains 58,527 digit images written by 500 different writers. In contrast to SD-3, where blocks of data from each writer appeared in sequence, the data in SD-1 is scrambled. Writer identities for SD-1 is available and we used this information to unscramble the writers. We then split SD-1 in two: characters written by the first 250 writers went into our new training set. The remaining 250 writers were placed in our test set. Thus we had two sets with nearly 30,000 examples each. The new training set was completed with enough examples from SD-3, starting at pattern # 0, to make a full set of 60,000 training patterns. Similarly, the new test set was completed with SD-3 examples starting at pattern # 35,000 to make a full set with 60,000 test patterns. Only a subset of 10,000 test images (5,000 from SD-1 and 5,000 from SD-3) is available on this site. The full 60,000 sample training set is available.\\n\\nDownloaded from openml.org.\",\n",
       " 'categories': {},\n",
       " 'data': array([[0., 0., 0., ..., 0., 0., 0.],\n",
       "        [0., 0., 0., ..., 0., 0., 0.],\n",
       "        [0., 0., 0., ..., 0., 0., 0.],\n",
       "        ...,\n",
       "        [0., 0., 0., ..., 0., 0., 0.],\n",
       "        [0., 0., 0., ..., 0., 0., 0.],\n",
       "        [0., 0., 0., ..., 0., 0., 0.]]),\n",
       " 'details': {u'default_target_attribute': u'class',\n",
       "  u'file_id': u'52667',\n",
       "  u'format': u'ARFF',\n",
       "  u'id': u'554',\n",
       "  u'licence': u'Public',\n",
       "  u'md5_checksum': u'0298d579eb1b86163de7723944c7e495',\n",
       "  u'name': u'mnist_784',\n",
       "  u'processing_date': u'2020-11-20 20:12:09',\n",
       "  u'status': u'active',\n",
       "  u'tag': [u'AzurePilot',\n",
       "   u'OpenML-CC18',\n",
       "   u'OpenML100',\n",
       "   u'study_1',\n",
       "   u'study_123',\n",
       "   u'study_41',\n",
       "   u'study_99',\n",
       "   u'vision'],\n",
       "  u'upload_date': u'2014-09-29T03:28:38',\n",
       "  u'url': u'https://www.openml.org/data/v1/download/52667/mnist_784.arff',\n",
       "  u'version': u'1',\n",
       "  u'visibility': u'public'},\n",
       " 'feature_names': [u'pixel1',\n",
       "  u'pixel2',\n",
       "  u'pixel3',\n",
       "  u'pixel4',\n",
       "  u'pixel5',\n",
       "  u'pixel6',\n",
       "  u'pixel7',\n",
       "  u'pixel8',\n",
       "  u'pixel9',\n",
       "  u'pixel10',\n",
       "  u'pixel11',\n",
       "  u'pixel12',\n",
       "  u'pixel13',\n",
       "  u'pixel14',\n",
       "  u'pixel15',\n",
       "  u'pixel16',\n",
       "  u'pixel17',\n",
       "  u'pixel18',\n",
       "  u'pixel19',\n",
       "  u'pixel20',\n",
       "  u'pixel21',\n",
       "  u'pixel22',\n",
       "  u'pixel23',\n",
       "  u'pixel24',\n",
       "  u'pixel25',\n",
       "  u'pixel26',\n",
       "  u'pixel27',\n",
       "  u'pixel28',\n",
       "  u'pixel29',\n",
       "  u'pixel30',\n",
       "  u'pixel31',\n",
       "  u'pixel32',\n",
       "  u'pixel33',\n",
       "  u'pixel34',\n",
       "  u'pixel35',\n",
       "  u'pixel36',\n",
       "  u'pixel37',\n",
       "  u'pixel38',\n",
       "  u'pixel39',\n",
       "  u'pixel40',\n",
       "  u'pixel41',\n",
       "  u'pixel42',\n",
       "  u'pixel43',\n",
       "  u'pixel44',\n",
       "  u'pixel45',\n",
       "  u'pixel46',\n",
       "  u'pixel47',\n",
       "  u'pixel48',\n",
       "  u'pixel49',\n",
       "  u'pixel50',\n",
       "  u'pixel51',\n",
       "  u'pixel52',\n",
       "  u'pixel53',\n",
       "  u'pixel54',\n",
       "  u'pixel55',\n",
       "  u'pixel56',\n",
       "  u'pixel57',\n",
       "  u'pixel58',\n",
       "  u'pixel59',\n",
       "  u'pixel60',\n",
       "  u'pixel61',\n",
       "  u'pixel62',\n",
       "  u'pixel63',\n",
       "  u'pixel64',\n",
       "  u'pixel65',\n",
       "  u'pixel66',\n",
       "  u'pixel67',\n",
       "  u'pixel68',\n",
       "  u'pixel69',\n",
       "  u'pixel70',\n",
       "  u'pixel71',\n",
       "  u'pixel72',\n",
       "  u'pixel73',\n",
       "  u'pixel74',\n",
       "  u'pixel75',\n",
       "  u'pixel76',\n",
       "  u'pixel77',\n",
       "  u'pixel78',\n",
       "  u'pixel79',\n",
       "  u'pixel80',\n",
       "  u'pixel81',\n",
       "  u'pixel82',\n",
       "  u'pixel83',\n",
       "  u'pixel84',\n",
       "  u'pixel85',\n",
       "  u'pixel86',\n",
       "  u'pixel87',\n",
       "  u'pixel88',\n",
       "  u'pixel89',\n",
       "  u'pixel90',\n",
       "  u'pixel91',\n",
       "  u'pixel92',\n",
       "  u'pixel93',\n",
       "  u'pixel94',\n",
       "  u'pixel95',\n",
       "  u'pixel96',\n",
       "  u'pixel97',\n",
       "  u'pixel98',\n",
       "  u'pixel99',\n",
       "  u'pixel100',\n",
       "  u'pixel101',\n",
       "  u'pixel102',\n",
       "  u'pixel103',\n",
       "  u'pixel104',\n",
       "  u'pixel105',\n",
       "  u'pixel106',\n",
       "  u'pixel107',\n",
       "  u'pixel108',\n",
       "  u'pixel109',\n",
       "  u'pixel110',\n",
       "  u'pixel111',\n",
       "  u'pixel112',\n",
       "  u'pixel113',\n",
       "  u'pixel114',\n",
       "  u'pixel115',\n",
       "  u'pixel116',\n",
       "  u'pixel117',\n",
       "  u'pixel118',\n",
       "  u'pixel119',\n",
       "  u'pixel120',\n",
       "  u'pixel121',\n",
       "  u'pixel122',\n",
       "  u'pixel123',\n",
       "  u'pixel124',\n",
       "  u'pixel125',\n",
       "  u'pixel126',\n",
       "  u'pixel127',\n",
       "  u'pixel128',\n",
       "  u'pixel129',\n",
       "  u'pixel130',\n",
       "  u'pixel131',\n",
       "  u'pixel132',\n",
       "  u'pixel133',\n",
       "  u'pixel134',\n",
       "  u'pixel135',\n",
       "  u'pixel136',\n",
       "  u'pixel137',\n",
       "  u'pixel138',\n",
       "  u'pixel139',\n",
       "  u'pixel140',\n",
       "  u'pixel141',\n",
       "  u'pixel142',\n",
       "  u'pixel143',\n",
       "  u'pixel144',\n",
       "  u'pixel145',\n",
       "  u'pixel146',\n",
       "  u'pixel147',\n",
       "  u'pixel148',\n",
       "  u'pixel149',\n",
       "  u'pixel150',\n",
       "  u'pixel151',\n",
       "  u'pixel152',\n",
       "  u'pixel153',\n",
       "  u'pixel154',\n",
       "  u'pixel155',\n",
       "  u'pixel156',\n",
       "  u'pixel157',\n",
       "  u'pixel158',\n",
       "  u'pixel159',\n",
       "  u'pixel160',\n",
       "  u'pixel161',\n",
       "  u'pixel162',\n",
       "  u'pixel163',\n",
       "  u'pixel164',\n",
       "  u'pixel165',\n",
       "  u'pixel166',\n",
       "  u'pixel167',\n",
       "  u'pixel168',\n",
       "  u'pixel169',\n",
       "  u'pixel170',\n",
       "  u'pixel171',\n",
       "  u'pixel172',\n",
       "  u'pixel173',\n",
       "  u'pixel174',\n",
       "  u'pixel175',\n",
       "  u'pixel176',\n",
       "  u'pixel177',\n",
       "  u'pixel178',\n",
       "  u'pixel179',\n",
       "  u'pixel180',\n",
       "  u'pixel181',\n",
       "  u'pixel182',\n",
       "  u'pixel183',\n",
       "  u'pixel184',\n",
       "  u'pixel185',\n",
       "  u'pixel186',\n",
       "  u'pixel187',\n",
       "  u'pixel188',\n",
       "  u'pixel189',\n",
       "  u'pixel190',\n",
       "  u'pixel191',\n",
       "  u'pixel192',\n",
       "  u'pixel193',\n",
       "  u'pixel194',\n",
       "  u'pixel195',\n",
       "  u'pixel196',\n",
       "  u'pixel197',\n",
       "  u'pixel198',\n",
       "  u'pixel199',\n",
       "  u'pixel200',\n",
       "  u'pixel201',\n",
       "  u'pixel202',\n",
       "  u'pixel203',\n",
       "  u'pixel204',\n",
       "  u'pixel205',\n",
       "  u'pixel206',\n",
       "  u'pixel207',\n",
       "  u'pixel208',\n",
       "  u'pixel209',\n",
       "  u'pixel210',\n",
       "  u'pixel211',\n",
       "  u'pixel212',\n",
       "  u'pixel213',\n",
       "  u'pixel214',\n",
       "  u'pixel215',\n",
       "  u'pixel216',\n",
       "  u'pixel217',\n",
       "  u'pixel218',\n",
       "  u'pixel219',\n",
       "  u'pixel220',\n",
       "  u'pixel221',\n",
       "  u'pixel222',\n",
       "  u'pixel223',\n",
       "  u'pixel224',\n",
       "  u'pixel225',\n",
       "  u'pixel226',\n",
       "  u'pixel227',\n",
       "  u'pixel228',\n",
       "  u'pixel229',\n",
       "  u'pixel230',\n",
       "  u'pixel231',\n",
       "  u'pixel232',\n",
       "  u'pixel233',\n",
       "  u'pixel234',\n",
       "  u'pixel235',\n",
       "  u'pixel236',\n",
       "  u'pixel237',\n",
       "  u'pixel238',\n",
       "  u'pixel239',\n",
       "  u'pixel240',\n",
       "  u'pixel241',\n",
       "  u'pixel242',\n",
       "  u'pixel243',\n",
       "  u'pixel244',\n",
       "  u'pixel245',\n",
       "  u'pixel246',\n",
       "  u'pixel247',\n",
       "  u'pixel248',\n",
       "  u'pixel249',\n",
       "  u'pixel250',\n",
       "  u'pixel251',\n",
       "  u'pixel252',\n",
       "  u'pixel253',\n",
       "  u'pixel254',\n",
       "  u'pixel255',\n",
       "  u'pixel256',\n",
       "  u'pixel257',\n",
       "  u'pixel258',\n",
       "  u'pixel259',\n",
       "  u'pixel260',\n",
       "  u'pixel261',\n",
       "  u'pixel262',\n",
       "  u'pixel263',\n",
       "  u'pixel264',\n",
       "  u'pixel265',\n",
       "  u'pixel266',\n",
       "  u'pixel267',\n",
       "  u'pixel268',\n",
       "  u'pixel269',\n",
       "  u'pixel270',\n",
       "  u'pixel271',\n",
       "  u'pixel272',\n",
       "  u'pixel273',\n",
       "  u'pixel274',\n",
       "  u'pixel275',\n",
       "  u'pixel276',\n",
       "  u'pixel277',\n",
       "  u'pixel278',\n",
       "  u'pixel279',\n",
       "  u'pixel280',\n",
       "  u'pixel281',\n",
       "  u'pixel282',\n",
       "  u'pixel283',\n",
       "  u'pixel284',\n",
       "  u'pixel285',\n",
       "  u'pixel286',\n",
       "  u'pixel287',\n",
       "  u'pixel288',\n",
       "  u'pixel289',\n",
       "  u'pixel290',\n",
       "  u'pixel291',\n",
       "  u'pixel292',\n",
       "  u'pixel293',\n",
       "  u'pixel294',\n",
       "  u'pixel295',\n",
       "  u'pixel296',\n",
       "  u'pixel297',\n",
       "  u'pixel298',\n",
       "  u'pixel299',\n",
       "  u'pixel300',\n",
       "  u'pixel301',\n",
       "  u'pixel302',\n",
       "  u'pixel303',\n",
       "  u'pixel304',\n",
       "  u'pixel305',\n",
       "  u'pixel306',\n",
       "  u'pixel307',\n",
       "  u'pixel308',\n",
       "  u'pixel309',\n",
       "  u'pixel310',\n",
       "  u'pixel311',\n",
       "  u'pixel312',\n",
       "  u'pixel313',\n",
       "  u'pixel314',\n",
       "  u'pixel315',\n",
       "  u'pixel316',\n",
       "  u'pixel317',\n",
       "  u'pixel318',\n",
       "  u'pixel319',\n",
       "  u'pixel320',\n",
       "  u'pixel321',\n",
       "  u'pixel322',\n",
       "  u'pixel323',\n",
       "  u'pixel324',\n",
       "  u'pixel325',\n",
       "  u'pixel326',\n",
       "  u'pixel327',\n",
       "  u'pixel328',\n",
       "  u'pixel329',\n",
       "  u'pixel330',\n",
       "  u'pixel331',\n",
       "  u'pixel332',\n",
       "  u'pixel333',\n",
       "  u'pixel334',\n",
       "  u'pixel335',\n",
       "  u'pixel336',\n",
       "  u'pixel337',\n",
       "  u'pixel338',\n",
       "  u'pixel339',\n",
       "  u'pixel340',\n",
       "  u'pixel341',\n",
       "  u'pixel342',\n",
       "  u'pixel343',\n",
       "  u'pixel344',\n",
       "  u'pixel345',\n",
       "  u'pixel346',\n",
       "  u'pixel347',\n",
       "  u'pixel348',\n",
       "  u'pixel349',\n",
       "  u'pixel350',\n",
       "  u'pixel351',\n",
       "  u'pixel352',\n",
       "  u'pixel353',\n",
       "  u'pixel354',\n",
       "  u'pixel355',\n",
       "  u'pixel356',\n",
       "  u'pixel357',\n",
       "  u'pixel358',\n",
       "  u'pixel359',\n",
       "  u'pixel360',\n",
       "  u'pixel361',\n",
       "  u'pixel362',\n",
       "  u'pixel363',\n",
       "  u'pixel364',\n",
       "  u'pixel365',\n",
       "  u'pixel366',\n",
       "  u'pixel367',\n",
       "  u'pixel368',\n",
       "  u'pixel369',\n",
       "  u'pixel370',\n",
       "  u'pixel371',\n",
       "  u'pixel372',\n",
       "  u'pixel373',\n",
       "  u'pixel374',\n",
       "  u'pixel375',\n",
       "  u'pixel376',\n",
       "  u'pixel377',\n",
       "  u'pixel378',\n",
       "  u'pixel379',\n",
       "  u'pixel380',\n",
       "  u'pixel381',\n",
       "  u'pixel382',\n",
       "  u'pixel383',\n",
       "  u'pixel384',\n",
       "  u'pixel385',\n",
       "  u'pixel386',\n",
       "  u'pixel387',\n",
       "  u'pixel388',\n",
       "  u'pixel389',\n",
       "  u'pixel390',\n",
       "  u'pixel391',\n",
       "  u'pixel392',\n",
       "  u'pixel393',\n",
       "  u'pixel394',\n",
       "  u'pixel395',\n",
       "  u'pixel396',\n",
       "  u'pixel397',\n",
       "  u'pixel398',\n",
       "  u'pixel399',\n",
       "  u'pixel400',\n",
       "  u'pixel401',\n",
       "  u'pixel402',\n",
       "  u'pixel403',\n",
       "  u'pixel404',\n",
       "  u'pixel405',\n",
       "  u'pixel406',\n",
       "  u'pixel407',\n",
       "  u'pixel408',\n",
       "  u'pixel409',\n",
       "  u'pixel410',\n",
       "  u'pixel411',\n",
       "  u'pixel412',\n",
       "  u'pixel413',\n",
       "  u'pixel414',\n",
       "  u'pixel415',\n",
       "  u'pixel416',\n",
       "  u'pixel417',\n",
       "  u'pixel418',\n",
       "  u'pixel419',\n",
       "  u'pixel420',\n",
       "  u'pixel421',\n",
       "  u'pixel422',\n",
       "  u'pixel423',\n",
       "  u'pixel424',\n",
       "  u'pixel425',\n",
       "  u'pixel426',\n",
       "  u'pixel427',\n",
       "  u'pixel428',\n",
       "  u'pixel429',\n",
       "  u'pixel430',\n",
       "  u'pixel431',\n",
       "  u'pixel432',\n",
       "  u'pixel433',\n",
       "  u'pixel434',\n",
       "  u'pixel435',\n",
       "  u'pixel436',\n",
       "  u'pixel437',\n",
       "  u'pixel438',\n",
       "  u'pixel439',\n",
       "  u'pixel440',\n",
       "  u'pixel441',\n",
       "  u'pixel442',\n",
       "  u'pixel443',\n",
       "  u'pixel444',\n",
       "  u'pixel445',\n",
       "  u'pixel446',\n",
       "  u'pixel447',\n",
       "  u'pixel448',\n",
       "  u'pixel449',\n",
       "  u'pixel450',\n",
       "  u'pixel451',\n",
       "  u'pixel452',\n",
       "  u'pixel453',\n",
       "  u'pixel454',\n",
       "  u'pixel455',\n",
       "  u'pixel456',\n",
       "  u'pixel457',\n",
       "  u'pixel458',\n",
       "  u'pixel459',\n",
       "  u'pixel460',\n",
       "  u'pixel461',\n",
       "  u'pixel462',\n",
       "  u'pixel463',\n",
       "  u'pixel464',\n",
       "  u'pixel465',\n",
       "  u'pixel466',\n",
       "  u'pixel467',\n",
       "  u'pixel468',\n",
       "  u'pixel469',\n",
       "  u'pixel470',\n",
       "  u'pixel471',\n",
       "  u'pixel472',\n",
       "  u'pixel473',\n",
       "  u'pixel474',\n",
       "  u'pixel475',\n",
       "  u'pixel476',\n",
       "  u'pixel477',\n",
       "  u'pixel478',\n",
       "  u'pixel479',\n",
       "  u'pixel480',\n",
       "  u'pixel481',\n",
       "  u'pixel482',\n",
       "  u'pixel483',\n",
       "  u'pixel484',\n",
       "  u'pixel485',\n",
       "  u'pixel486',\n",
       "  u'pixel487',\n",
       "  u'pixel488',\n",
       "  u'pixel489',\n",
       "  u'pixel490',\n",
       "  u'pixel491',\n",
       "  u'pixel492',\n",
       "  u'pixel493',\n",
       "  u'pixel494',\n",
       "  u'pixel495',\n",
       "  u'pixel496',\n",
       "  u'pixel497',\n",
       "  u'pixel498',\n",
       "  u'pixel499',\n",
       "  u'pixel500',\n",
       "  u'pixel501',\n",
       "  u'pixel502',\n",
       "  u'pixel503',\n",
       "  u'pixel504',\n",
       "  u'pixel505',\n",
       "  u'pixel506',\n",
       "  u'pixel507',\n",
       "  u'pixel508',\n",
       "  u'pixel509',\n",
       "  u'pixel510',\n",
       "  u'pixel511',\n",
       "  u'pixel512',\n",
       "  u'pixel513',\n",
       "  u'pixel514',\n",
       "  u'pixel515',\n",
       "  u'pixel516',\n",
       "  u'pixel517',\n",
       "  u'pixel518',\n",
       "  u'pixel519',\n",
       "  u'pixel520',\n",
       "  u'pixel521',\n",
       "  u'pixel522',\n",
       "  u'pixel523',\n",
       "  u'pixel524',\n",
       "  u'pixel525',\n",
       "  u'pixel526',\n",
       "  u'pixel527',\n",
       "  u'pixel528',\n",
       "  u'pixel529',\n",
       "  u'pixel530',\n",
       "  u'pixel531',\n",
       "  u'pixel532',\n",
       "  u'pixel533',\n",
       "  u'pixel534',\n",
       "  u'pixel535',\n",
       "  u'pixel536',\n",
       "  u'pixel537',\n",
       "  u'pixel538',\n",
       "  u'pixel539',\n",
       "  u'pixel540',\n",
       "  u'pixel541',\n",
       "  u'pixel542',\n",
       "  u'pixel543',\n",
       "  u'pixel544',\n",
       "  u'pixel545',\n",
       "  u'pixel546',\n",
       "  u'pixel547',\n",
       "  u'pixel548',\n",
       "  u'pixel549',\n",
       "  u'pixel550',\n",
       "  u'pixel551',\n",
       "  u'pixel552',\n",
       "  u'pixel553',\n",
       "  u'pixel554',\n",
       "  u'pixel555',\n",
       "  u'pixel556',\n",
       "  u'pixel557',\n",
       "  u'pixel558',\n",
       "  u'pixel559',\n",
       "  u'pixel560',\n",
       "  u'pixel561',\n",
       "  u'pixel562',\n",
       "  u'pixel563',\n",
       "  u'pixel564',\n",
       "  u'pixel565',\n",
       "  u'pixel566',\n",
       "  u'pixel567',\n",
       "  u'pixel568',\n",
       "  u'pixel569',\n",
       "  u'pixel570',\n",
       "  u'pixel571',\n",
       "  u'pixel572',\n",
       "  u'pixel573',\n",
       "  u'pixel574',\n",
       "  u'pixel575',\n",
       "  u'pixel576',\n",
       "  u'pixel577',\n",
       "  u'pixel578',\n",
       "  u'pixel579',\n",
       "  u'pixel580',\n",
       "  u'pixel581',\n",
       "  u'pixel582',\n",
       "  u'pixel583',\n",
       "  u'pixel584',\n",
       "  u'pixel585',\n",
       "  u'pixel586',\n",
       "  u'pixel587',\n",
       "  u'pixel588',\n",
       "  u'pixel589',\n",
       "  u'pixel590',\n",
       "  u'pixel591',\n",
       "  u'pixel592',\n",
       "  u'pixel593',\n",
       "  u'pixel594',\n",
       "  u'pixel595',\n",
       "  u'pixel596',\n",
       "  u'pixel597',\n",
       "  u'pixel598',\n",
       "  u'pixel599',\n",
       "  u'pixel600',\n",
       "  u'pixel601',\n",
       "  u'pixel602',\n",
       "  u'pixel603',\n",
       "  u'pixel604',\n",
       "  u'pixel605',\n",
       "  u'pixel606',\n",
       "  u'pixel607',\n",
       "  u'pixel608',\n",
       "  u'pixel609',\n",
       "  u'pixel610',\n",
       "  u'pixel611',\n",
       "  u'pixel612',\n",
       "  u'pixel613',\n",
       "  u'pixel614',\n",
       "  u'pixel615',\n",
       "  u'pixel616',\n",
       "  u'pixel617',\n",
       "  u'pixel618',\n",
       "  u'pixel619',\n",
       "  u'pixel620',\n",
       "  u'pixel621',\n",
       "  u'pixel622',\n",
       "  u'pixel623',\n",
       "  u'pixel624',\n",
       "  u'pixel625',\n",
       "  u'pixel626',\n",
       "  u'pixel627',\n",
       "  u'pixel628',\n",
       "  u'pixel629',\n",
       "  u'pixel630',\n",
       "  u'pixel631',\n",
       "  u'pixel632',\n",
       "  u'pixel633',\n",
       "  u'pixel634',\n",
       "  u'pixel635',\n",
       "  u'pixel636',\n",
       "  u'pixel637',\n",
       "  u'pixel638',\n",
       "  u'pixel639',\n",
       "  u'pixel640',\n",
       "  u'pixel641',\n",
       "  u'pixel642',\n",
       "  u'pixel643',\n",
       "  u'pixel644',\n",
       "  u'pixel645',\n",
       "  u'pixel646',\n",
       "  u'pixel647',\n",
       "  u'pixel648',\n",
       "  u'pixel649',\n",
       "  u'pixel650',\n",
       "  u'pixel651',\n",
       "  u'pixel652',\n",
       "  u'pixel653',\n",
       "  u'pixel654',\n",
       "  u'pixel655',\n",
       "  u'pixel656',\n",
       "  u'pixel657',\n",
       "  u'pixel658',\n",
       "  u'pixel659',\n",
       "  u'pixel660',\n",
       "  u'pixel661',\n",
       "  u'pixel662',\n",
       "  u'pixel663',\n",
       "  u'pixel664',\n",
       "  u'pixel665',\n",
       "  u'pixel666',\n",
       "  u'pixel667',\n",
       "  u'pixel668',\n",
       "  u'pixel669',\n",
       "  u'pixel670',\n",
       "  u'pixel671',\n",
       "  u'pixel672',\n",
       "  u'pixel673',\n",
       "  u'pixel674',\n",
       "  u'pixel675',\n",
       "  u'pixel676',\n",
       "  u'pixel677',\n",
       "  u'pixel678',\n",
       "  u'pixel679',\n",
       "  u'pixel680',\n",
       "  u'pixel681',\n",
       "  u'pixel682',\n",
       "  u'pixel683',\n",
       "  u'pixel684',\n",
       "  u'pixel685',\n",
       "  u'pixel686',\n",
       "  u'pixel687',\n",
       "  u'pixel688',\n",
       "  u'pixel689',\n",
       "  u'pixel690',\n",
       "  u'pixel691',\n",
       "  u'pixel692',\n",
       "  u'pixel693',\n",
       "  u'pixel694',\n",
       "  u'pixel695',\n",
       "  u'pixel696',\n",
       "  u'pixel697',\n",
       "  u'pixel698',\n",
       "  u'pixel699',\n",
       "  u'pixel700',\n",
       "  u'pixel701',\n",
       "  u'pixel702',\n",
       "  u'pixel703',\n",
       "  u'pixel704',\n",
       "  u'pixel705',\n",
       "  u'pixel706',\n",
       "  u'pixel707',\n",
       "  u'pixel708',\n",
       "  u'pixel709',\n",
       "  u'pixel710',\n",
       "  u'pixel711',\n",
       "  u'pixel712',\n",
       "  u'pixel713',\n",
       "  u'pixel714',\n",
       "  u'pixel715',\n",
       "  u'pixel716',\n",
       "  u'pixel717',\n",
       "  u'pixel718',\n",
       "  u'pixel719',\n",
       "  u'pixel720',\n",
       "  u'pixel721',\n",
       "  u'pixel722',\n",
       "  u'pixel723',\n",
       "  u'pixel724',\n",
       "  u'pixel725',\n",
       "  u'pixel726',\n",
       "  u'pixel727',\n",
       "  u'pixel728',\n",
       "  u'pixel729',\n",
       "  u'pixel730',\n",
       "  u'pixel731',\n",
       "  u'pixel732',\n",
       "  u'pixel733',\n",
       "  u'pixel734',\n",
       "  u'pixel735',\n",
       "  u'pixel736',\n",
       "  u'pixel737',\n",
       "  u'pixel738',\n",
       "  u'pixel739',\n",
       "  u'pixel740',\n",
       "  u'pixel741',\n",
       "  u'pixel742',\n",
       "  u'pixel743',\n",
       "  u'pixel744',\n",
       "  u'pixel745',\n",
       "  u'pixel746',\n",
       "  u'pixel747',\n",
       "  u'pixel748',\n",
       "  u'pixel749',\n",
       "  u'pixel750',\n",
       "  u'pixel751',\n",
       "  u'pixel752',\n",
       "  u'pixel753',\n",
       "  u'pixel754',\n",
       "  u'pixel755',\n",
       "  u'pixel756',\n",
       "  u'pixel757',\n",
       "  u'pixel758',\n",
       "  u'pixel759',\n",
       "  u'pixel760',\n",
       "  u'pixel761',\n",
       "  u'pixel762',\n",
       "  u'pixel763',\n",
       "  u'pixel764',\n",
       "  u'pixel765',\n",
       "  u'pixel766',\n",
       "  u'pixel767',\n",
       "  u'pixel768',\n",
       "  u'pixel769',\n",
       "  u'pixel770',\n",
       "  u'pixel771',\n",
       "  u'pixel772',\n",
       "  u'pixel773',\n",
       "  u'pixel774',\n",
       "  u'pixel775',\n",
       "  u'pixel776',\n",
       "  u'pixel777',\n",
       "  u'pixel778',\n",
       "  u'pixel779',\n",
       "  u'pixel780',\n",
       "  u'pixel781',\n",
       "  u'pixel782',\n",
       "  u'pixel783',\n",
       "  u'pixel784'],\n",
       " 'target': array(['5', '0', '4', ..., '4', '5', '6'], dtype=object),\n",
       " 'url': 'https://www.openml.org/d/554'}"
      ]
     },
     "execution_count": 4,
     "metadata": {},
     "output_type": "execute_result"
    }
   ],
   "source": [
    "mnist\n"
   ]
  },
  {
   "cell_type": "code",
   "execution_count": 5,
   "metadata": {},
   "outputs": [],
   "source": [
    "#We will convert this data into x and y"
   ]
  },
  {
   "cell_type": "code",
   "execution_count": 6,
   "metadata": {},
   "outputs": [],
   "source": [
    "x, y = mnist['data'], mnist['target']"
   ]
  },
  {
   "cell_type": "code",
   "execution_count": 7,
   "metadata": {},
   "outputs": [
    {
     "data": {
      "text/plain": [
       "array([[0., 0., 0., ..., 0., 0., 0.],\n",
       "       [0., 0., 0., ..., 0., 0., 0.],\n",
       "       [0., 0., 0., ..., 0., 0., 0.],\n",
       "       ...,\n",
       "       [0., 0., 0., ..., 0., 0., 0.],\n",
       "       [0., 0., 0., ..., 0., 0., 0.],\n",
       "       [0., 0., 0., ..., 0., 0., 0.]])"
      ]
     },
     "execution_count": 7,
     "metadata": {},
     "output_type": "execute_result"
    }
   ],
   "source": [
    "x"
   ]
  },
  {
   "cell_type": "code",
   "execution_count": 8,
   "metadata": {},
   "outputs": [
    {
     "data": {
      "text/plain": [
       "array(['5', '0', '4', ..., '4', '5', '6'], dtype=object)"
      ]
     },
     "execution_count": 8,
     "metadata": {},
     "output_type": "execute_result"
    }
   ],
   "source": [
    "y"
   ]
  },
  {
   "cell_type": "code",
   "execution_count": 9,
   "metadata": {},
   "outputs": [
    {
     "data": {
      "text/plain": [
       "array([  0.,   0.,   0.,   0.,   0.,   0.,   0.,   0.,   0.,   0.,   0.,\n",
       "         0.,   0.,   0.,   0.,   0.,   0.,   0.,   0.,   0.,   0.,   0.,\n",
       "         0.,   0.,   0.,   0.,   0.,   0.,   0.,   0.,   0.,   0.,   0.,\n",
       "         0.,   0.,   0.,   0.,   0.,   0.,   0.,   0.,   0.,   0.,   0.,\n",
       "         0.,   0.,   0.,   0.,   0.,   0.,   0.,   0.,   0.,   0.,   0.,\n",
       "         0.,   0.,   0.,   0.,   0.,   0.,   0.,   0.,   0.,   0.,   0.,\n",
       "         0.,   0.,   0.,   0.,   0.,   0.,   0.,   0.,   0.,   0.,   0.,\n",
       "         0.,   0.,   0.,   0.,   0.,   0.,   0.,   0.,   0.,   0.,   0.,\n",
       "         0.,   0.,   0.,   0.,   0.,   0.,   0.,   0.,   0.,   0.,   0.,\n",
       "         0.,   0.,   0.,   0.,   0.,   0.,   0.,   0.,   0.,   0.,   0.,\n",
       "         0.,   0.,   0.,   0.,   0.,   0.,   0.,   0.,   0.,   0.,   0.,\n",
       "         0.,   0.,   0.,   0.,   0.,   0.,   0.,   0.,   0.,   0.,   0.,\n",
       "         0.,   0.,   0.,   0.,   0.,   0.,   0.,   0.,   0.,   0.,   0.,\n",
       "         0.,   0.,   0.,   0.,   0.,   0.,   0.,   0.,   0.,   3.,  18.,\n",
       "        18.,  18., 126., 136., 175.,  26., 166., 255., 247., 127.,   0.,\n",
       "         0.,   0.,   0.,   0.,   0.,   0.,   0.,   0.,   0.,   0.,   0.,\n",
       "        30.,  36.,  94., 154., 170., 253., 253., 253., 253., 253., 225.,\n",
       "       172., 253., 242., 195.,  64.,   0.,   0.,   0.,   0.,   0.,   0.,\n",
       "         0.,   0.,   0.,   0.,   0.,  49., 238., 253., 253., 253., 253.,\n",
       "       253., 253., 253., 253., 251.,  93.,  82.,  82.,  56.,  39.,   0.,\n",
       "         0.,   0.,   0.,   0.,   0.,   0.,   0.,   0.,   0.,   0.,   0.,\n",
       "        18., 219., 253., 253., 253., 253., 253., 198., 182., 247., 241.,\n",
       "         0.,   0.,   0.,   0.,   0.,   0.,   0.,   0.,   0.,   0.,   0.,\n",
       "         0.,   0.,   0.,   0.,   0.,   0.,   0.,  80., 156., 107., 253.,\n",
       "       253., 205.,  11.,   0.,  43., 154.,   0.,   0.,   0.,   0.,   0.,\n",
       "         0.,   0.,   0.,   0.,   0.,   0.,   0.,   0.,   0.,   0.,   0.,\n",
       "         0.,   0.,   0.,  14.,   1., 154., 253.,  90.,   0.,   0.,   0.,\n",
       "         0.,   0.,   0.,   0.,   0.,   0.,   0.,   0.,   0.,   0.,   0.,\n",
       "         0.,   0.,   0.,   0.,   0.,   0.,   0.,   0.,   0.,   0.,   0.,\n",
       "       139., 253., 190.,   2.,   0.,   0.,   0.,   0.,   0.,   0.,   0.,\n",
       "         0.,   0.,   0.,   0.,   0.,   0.,   0.,   0.,   0.,   0.,   0.,\n",
       "         0.,   0.,   0.,   0.,   0.,   0.,  11., 190., 253.,  70.,   0.,\n",
       "         0.,   0.,   0.,   0.,   0.,   0.,   0.,   0.,   0.,   0.,   0.,\n",
       "         0.,   0.,   0.,   0.,   0.,   0.,   0.,   0.,   0.,   0.,   0.,\n",
       "         0.,   0.,  35., 241., 225., 160., 108.,   1.,   0.,   0.,   0.,\n",
       "         0.,   0.,   0.,   0.,   0.,   0.,   0.,   0.,   0.,   0.,   0.,\n",
       "         0.,   0.,   0.,   0.,   0.,   0.,   0.,   0.,   0.,  81., 240.,\n",
       "       253., 253., 119.,  25.,   0.,   0.,   0.,   0.,   0.,   0.,   0.,\n",
       "         0.,   0.,   0.,   0.,   0.,   0.,   0.,   0.,   0.,   0.,   0.,\n",
       "         0.,   0.,   0.,   0.,   0.,  45., 186., 253., 253., 150.,  27.,\n",
       "         0.,   0.,   0.,   0.,   0.,   0.,   0.,   0.,   0.,   0.,   0.,\n",
       "         0.,   0.,   0.,   0.,   0.,   0.,   0.,   0.,   0.,   0.,   0.,\n",
       "         0.,  16.,  93., 252., 253., 187.,   0.,   0.,   0.,   0.,   0.,\n",
       "         0.,   0.,   0.,   0.,   0.,   0.,   0.,   0.,   0.,   0.,   0.,\n",
       "         0.,   0.,   0.,   0.,   0.,   0.,   0.,   0.,   0., 249., 253.,\n",
       "       249.,  64.,   0.,   0.,   0.,   0.,   0.,   0.,   0.,   0.,   0.,\n",
       "         0.,   0.,   0.,   0.,   0.,   0.,   0.,   0.,   0.,   0.,   0.,\n",
       "         0.,  46., 130., 183., 253., 253., 207.,   2.,   0.,   0.,   0.,\n",
       "         0.,   0.,   0.,   0.,   0.,   0.,   0.,   0.,   0.,   0.,   0.,\n",
       "         0.,   0.,   0.,   0.,   0.,  39., 148., 229., 253., 253., 253.,\n",
       "       250., 182.,   0.,   0.,   0.,   0.,   0.,   0.,   0.,   0.,   0.,\n",
       "         0.,   0.,   0.,   0.,   0.,   0.,   0.,   0.,   0.,  24., 114.,\n",
       "       221., 253., 253., 253., 253., 201.,  78.,   0.,   0.,   0.,   0.,\n",
       "         0.,   0.,   0.,   0.,   0.,   0.,   0.,   0.,   0.,   0.,   0.,\n",
       "         0.,   0.,  23.,  66., 213., 253., 253., 253., 253., 198.,  81.,\n",
       "         2.,   0.,   0.,   0.,   0.,   0.,   0.,   0.,   0.,   0.,   0.,\n",
       "         0.,   0.,   0.,   0.,   0.,   0.,  18., 171., 219., 253., 253.,\n",
       "       253., 253., 195.,  80.,   9.,   0.,   0.,   0.,   0.,   0.,   0.,\n",
       "         0.,   0.,   0.,   0.,   0.,   0.,   0.,   0.,   0.,   0.,  55.,\n",
       "       172., 226., 253., 253., 253., 253., 244., 133.,  11.,   0.,   0.,\n",
       "         0.,   0.,   0.,   0.,   0.,   0.,   0.,   0.,   0.,   0.,   0.,\n",
       "         0.,   0.,   0.,   0.,   0., 136., 253., 253., 253., 212., 135.,\n",
       "       132.,  16.,   0.,   0.,   0.,   0.,   0.,   0.,   0.,   0.,   0.,\n",
       "         0.,   0.,   0.,   0.,   0.,   0.,   0.,   0.,   0.,   0.,   0.,\n",
       "         0.,   0.,   0.,   0.,   0.,   0.,   0.,   0.,   0.,   0.,   0.,\n",
       "         0.,   0.,   0.,   0.,   0.,   0.,   0.,   0.,   0.,   0.,   0.,\n",
       "         0.,   0.,   0.,   0.,   0.,   0.,   0.,   0.,   0.,   0.,   0.,\n",
       "         0.,   0.,   0.,   0.,   0.,   0.,   0.,   0.,   0.,   0.,   0.,\n",
       "         0.,   0.,   0.,   0.,   0.,   0.,   0.,   0.,   0.,   0.,   0.,\n",
       "         0.,   0.,   0.,   0.,   0.,   0.,   0.,   0.,   0.,   0.,   0.,\n",
       "         0.,   0.,   0.,   0.,   0.,   0.,   0.,   0.,   0.,   0.,   0.,\n",
       "         0.,   0.,   0.])"
      ]
     },
     "execution_count": 9,
     "metadata": {},
     "output_type": "execute_result"
    }
   ],
   "source": [
    "x[0]"
   ]
  },
  {
   "cell_type": "markdown",
   "metadata": {},
   "source": [
    "# This is one dimension numpy array but in order to see it we will convert it 28*28\n"
   ]
  },
  {
   "cell_type": "markdown",
   "metadata": {},
   "source": [
    "# At the moment the data is in the one dimensional form for eg : 1 2 3 4 ....28 1 2 3 4 5 ...28 1 2 3 4 5 ...28 but after we convert it will be in "
   ]
  },
  {
   "cell_type": "markdown",
   "metadata": {},
   "source": [
    "\n",
    "# 1 2 3 4 5 ....28\n",
    "# 1 2 3 4 5 ....28\n",
    "# 1 2 3 4 5 ....28"
   ]
  },
  {
   "cell_type": "code",
   "execution_count": 10,
   "metadata": {},
   "outputs": [
    {
     "data": {
      "text/plain": [
       "(70000L, 784L)"
      ]
     },
     "execution_count": 10,
     "metadata": {},
     "output_type": "execute_result"
    }
   ],
   "source": [
    "x.shape"
   ]
  },
  {
   "cell_type": "code",
   "execution_count": 11,
   "metadata": {},
   "outputs": [
    {
     "data": {
      "text/plain": [
       "(70000L,)"
      ]
     },
     "execution_count": 11,
     "metadata": {},
     "output_type": "execute_result"
    }
   ],
   "source": [
    "y.shape"
   ]
  },
  {
   "cell_type": "code",
   "execution_count": 12,
   "metadata": {},
   "outputs": [
    {
     "data": {
      "text/plain": [
       "784"
      ]
     },
     "execution_count": 12,
     "metadata": {},
     "output_type": "execute_result"
    }
   ],
   "source": [
    "28*28\n"
   ]
  },
  {
   "cell_type": "code",
   "execution_count": 13,
   "metadata": {},
   "outputs": [],
   "source": [
    "#this is why we convert the data into 784 \n",
    "#At the moment we have 70000 datasets which is huge so we will choose one and plot"
   ]
  },
  {
   "cell_type": "code",
   "execution_count": 14,
   "metadata": {},
   "outputs": [],
   "source": [
    "%matplotlib inline\n"
   ]
  },
  {
   "cell_type": "code",
   "execution_count": 15,
   "metadata": {},
   "outputs": [],
   "source": [
    "import matplotlib"
   ]
  },
  {
   "cell_type": "code",
   "execution_count": 18,
   "metadata": {},
   "outputs": [],
   "source": [
    "import matplotlib.pyplot as plt"
   ]
  },
  {
   "cell_type": "code",
   "execution_count": null,
   "metadata": {},
   "outputs": [],
   "source": []
  },
  {
   "cell_type": "code",
   "execution_count": 17,
   "metadata": {},
   "outputs": [],
   "source": [
    "import matplotlib.pyplot as plt"
   ]
  },
  {
   "cell_type": "code",
   "execution_count": 19,
   "metadata": {},
   "outputs": [],
   "source": [
    "ex=x[15125]"
   ]
  },
  {
   "cell_type": "code",
   "execution_count": 20,
   "metadata": {},
   "outputs": [
    {
     "data": {
      "text/plain": [
       "array([  0.,   0.,   0.,   0.,   0.,   0.,   0.,   0.,   0.,   0.,   0.,\n",
       "         0.,   0.,   0.,   0.,   0.,   0.,   0.,   0.,   0.,   0.,   0.,\n",
       "         0.,   0.,   0.,   0.,   0.,   0.,   0.,   0.,   0.,   0.,   0.,\n",
       "         0.,   0.,   0.,   0.,   0.,   0.,   0.,   0.,   0.,   0.,   0.,\n",
       "         0.,   0.,   0.,   0.,   0.,   0.,   0.,   0.,   0.,   0.,   0.,\n",
       "         0.,   0.,   0.,   0.,   0.,   0.,   0.,   0.,   0.,   0.,   0.,\n",
       "         0.,   0.,   0.,   0.,   0.,   0.,   0.,   0.,   0.,   0.,   0.,\n",
       "         0.,   0.,   0.,   0.,   0.,   0.,   0.,   0.,   0.,   0.,   0.,\n",
       "         0.,   0.,   0.,   0.,   0.,   0.,   0.,   0.,   0.,   0.,   0.,\n",
       "         0.,   0.,   0.,   0.,   0.,   0.,   0.,   0.,   0.,   0.,   0.,\n",
       "         0.,   0.,   0.,   0.,   0.,   0.,   0.,   0.,   0.,   0.,   0.,\n",
       "         0.,   0.,   0.,   0.,   0.,   0.,   0.,   0.,   0.,   0.,   0.,\n",
       "         0.,   0.,   0.,   0.,   0.,   0.,   0.,   0.,   0.,   0.,   0.,\n",
       "         0.,   0.,   0.,   0.,   0.,   0.,   0.,   0.,   0.,   0.,   0.,\n",
       "         0.,   0.,   0.,   0.,   0.,   0.,   0.,   0.,   0.,   0.,   0.,\n",
       "         0.,   0.,   0.,   0.,   0.,   0.,   0.,   0.,   0.,   0.,   0.,\n",
       "         0.,   0.,   0.,   0.,   0.,   0.,  93., 125., 147., 255., 255.,\n",
       "       161.,   0.,   0.,   0.,   0.,   0.,   0.,   0.,   0.,   0.,   0.,\n",
       "         0.,   0.,   0.,   0.,   0.,   0.,  46., 118., 118., 225., 248.,\n",
       "       248., 252., 253., 253., 253., 253., 253., 102.,   0.,   0.,   0.,\n",
       "         0.,   0.,   0.,   0.,   0.,   0.,   0.,   0.,   0., 113., 241.,\n",
       "       241., 246., 253., 253., 253., 253., 253., 253., 253., 253., 253.,\n",
       "       253., 242.,  59.,   0.,   0.,   0.,   0.,   0.,   0.,   0.,   0.,\n",
       "         0.,   0.,   0.,   0., 118., 253., 253., 253., 253., 253., 221.,\n",
       "       149., 149., 119.,  40., 213., 253., 253., 107.,   0.,   0.,   0.,\n",
       "         0.,   0.,   0.,   0.,   0.,   0.,   0.,   0.,   0.,   0.,  12.,\n",
       "        83., 155., 106.,  25.,  25.,  18.,   0.,   0.,  23., 197., 253.,\n",
       "       253., 173.,  10.,   0.,   0.,   0.,   0.,   0.,   0.,   0.,   0.,\n",
       "         0.,   0.,   0.,   0.,   0.,   0.,   0.,   0.,   0.,   0.,   0.,\n",
       "         0.,   0.,  71., 196., 253., 253., 172.,  12.,   0.,   0.,   0.,\n",
       "         0.,   0.,   0.,   0.,   0.,   0.,   0.,   0.,   0.,   0.,   0.,\n",
       "         0.,   0.,   0.,   0.,   0.,   0.,  71., 123., 245., 253., 253.,\n",
       "       170.,  13.,   0.,   0.,   0.,   0.,   0.,   0.,   0.,   0.,   0.,\n",
       "         0.,   0.,   0.,   0.,   0.,   0.,   0.,   0.,   0.,  31., 126.,\n",
       "       209., 245., 253., 253., 253., 253., 222., 122.,  28.,   0.,   0.,\n",
       "         0.,   0.,   0.,   0.,   0.,   0.,   0.,   0.,   0.,   0.,   0.,\n",
       "         0.,   0.,   0.,   0., 135., 253., 253., 253., 233., 200., 253.,\n",
       "       253., 253., 253., 220., 115.,   0.,   0.,   0.,   0.,   0.,   0.,\n",
       "         0.,   0.,   0.,   0.,   0.,   0.,   0.,   0.,   0.,   0., 195.,\n",
       "       219., 198., 147.,  42.,  15.,  58.,  85., 188., 232., 253., 247.,\n",
       "       114.,   0.,   0.,   0.,   0.,   0.,   0.,   0.,   0.,   0.,   0.,\n",
       "         0.,   0.,   0.,   0.,   0.,  25.,  32.,  10.,   0.,   0.,   0.,\n",
       "         0.,   0.,   0.,  64., 202., 253., 234.,   0.,   0.,   0.,   0.,\n",
       "         0.,   0.,   0.,   0.,   0.,   0.,   0.,   0.,   0.,   0.,   0.,\n",
       "         0.,   0.,   0.,   0.,   0.,   0.,   0.,   0.,   0.,   0.,  33.,\n",
       "       253., 248., 107.,   0.,   0.,   0.,   0.,   0.,   0.,   0.,   0.,\n",
       "         0.,   0.,   0.,   0.,   0.,   0.,   0.,   0.,   0.,   0.,   0.,\n",
       "         0.,   0.,   0.,   0.,  28., 186., 253., 253., 217.,   0.,   0.,\n",
       "         0.,   0.,   0.,   0.,   0.,   0.,   0.,   0.,   0.,   0.,   0.,\n",
       "         0.,   0.,   0.,   0.,   0.,   0.,   0.,  10.,  40., 130., 182.,\n",
       "       253., 253., 220.,  37.,   0.,   0.,   0.,   0.,   0.,   0.,   0.,\n",
       "         0.,   0.,   0.,   0.,   0.,   0.,   0.,   0.,   0.,   0.,   0.,\n",
       "        27., 133., 184., 253., 253., 253., 249., 140.,  37.,   0.,   0.,\n",
       "         0.,   0.,   0.,   0.,   0.,   0.,   0.,   0.,   0.,   0.,   0.,\n",
       "         0.,   0.,   0.,  10.,  70., 156., 234., 253., 253., 253., 235.,\n",
       "       207.,  85.,   0.,   0.,   0.,   0.,   0.,   0.,   0.,   0.,   0.,\n",
       "         0.,   0.,   0.,   0.,   0.,   0.,   0.,   9.,  71., 187., 253.,\n",
       "       253., 253., 238., 203., 104.,  32.,   0.,   0.,   0.,   0.,   0.,\n",
       "         0.,   0.,   0.,   0.,   0.,   0.,   0.,   0.,   0.,   0.,   0.,\n",
       "         0.,  13., 179., 253., 253., 253., 242., 136.,  25.,   0.,   0.,\n",
       "         0.,   0.,   0.,   0.,   0.,   0.,   0.,   0.,   0.,   0.,   0.,\n",
       "         0.,   0.,   0.,   0.,   0.,   0.,  64., 248., 253., 253., 251.,\n",
       "       203.,  21.,   0.,   0.,   0.,   0.,   0.,   0.,   0.,   0.,   0.,\n",
       "         0.,   0.,   0.,   0.,   0.,   0.,   0.,   0.,   0.,   0.,   0.,\n",
       "         0.,  58., 247., 253., 203.,  79.,   0.,   0.,   0.,   0.,   0.,\n",
       "         0.,   0.,   0.,   0.,   0.,   0.,   0.,   0.,   0.,   0.,   0.,\n",
       "         0.,   0.,   0.,   0.,   0.,   0.,   0.,   0.,   0.,   0.,   0.,\n",
       "         0.,   0.,   0.,   0.,   0.,   0.,   0.,   0.,   0.,   0.,   0.,\n",
       "         0.,   0.,   0.,   0.,   0.,   0.,   0.,   0.,   0.,   0.,   0.,\n",
       "         0.,   0.,   0.,   0.,   0.,   0.,   0.,   0.,   0.,   0.,   0.,\n",
       "         0.,   0.,   0.,   0.,   0.,   0.,   0.,   0.,   0.,   0.,   0.,\n",
       "         0.,   0.,   0.])"
      ]
     },
     "execution_count": 20,
     "metadata": {},
     "output_type": "execute_result"
    }
   ],
   "source": [
    "ex"
   ]
  },
  {
   "cell_type": "code",
   "execution_count": 26,
   "metadata": {},
   "outputs": [],
   "source": [
    "ex_image = ex.reshape(28,28)"
   ]
  },
  {
   "cell_type": "code",
   "execution_count": 22,
   "metadata": {},
   "outputs": [
    {
     "data": {
      "text/plain": [
       "array([  0.,   0.,   0.,   0.,   0.,   0.,   0.,   0.,   0.,   0.,   0.,\n",
       "         0.,   0.,   0.,   0.,   0.,   0.,   0.,   0.,   0.,   0.,   0.,\n",
       "         0.,   0.,   0.,   0.,   0.,   0.,   0.,   0.,   0.,   0.,   0.,\n",
       "         0.,   0.,   0.,   0.,   0.,   0.,   0.,   0.,   0.,   0.,   0.,\n",
       "         0.,   0.,   0.,   0.,   0.,   0.,   0.,   0.,   0.,   0.,   0.,\n",
       "         0.,   0.,   0.,   0.,   0.,   0.,   0.,   0.,   0.,   0.,   0.,\n",
       "         0.,   0.,   0.,   0.,   0.,   0.,   0.,   0.,   0.,   0.,   0.,\n",
       "         0.,   0.,   0.,   0.,   0.,   0.,   0.,   0.,   0.,   0.,   0.,\n",
       "         0.,   0.,   0.,   0.,   0.,   0.,   0.,   0.,   0.,   0.,   0.,\n",
       "         0.,   0.,   0.,   0.,   0.,   0.,   0.,   0.,   0.,   0.,   0.,\n",
       "         0.,   0.,   0.,   0.,   0.,   0.,   0.,   0.,   0.,   0.,   0.,\n",
       "         0.,   0.,   0.,   0.,   0.,   0.,   0.,   0.,   0.,   0.,   0.,\n",
       "         0.,   0.,   0.,   0.,   0.,   0.,   0.,   0.,   0.,   0.,   0.,\n",
       "         0.,   0.,   0.,   0.,   0.,   0.,   0.,   0.,   0.,   0.,   0.,\n",
       "         0.,   0.,   0.,   0.,   0.,   0.,   0.,   0.,   0.,   0.,   0.,\n",
       "         0.,   0.,   0.,   0.,   0.,   0.,   0.,   0.,   0.,   0.,   0.,\n",
       "         0.,   0.,   0.,   0.,   0.,   0.,  93., 125., 147., 255., 255.,\n",
       "       161.,   0.,   0.,   0.,   0.,   0.,   0.,   0.,   0.,   0.,   0.,\n",
       "         0.,   0.,   0.,   0.,   0.,   0.,  46., 118., 118., 225., 248.,\n",
       "       248., 252., 253., 253., 253., 253., 253., 102.,   0.,   0.,   0.,\n",
       "         0.,   0.,   0.,   0.,   0.,   0.,   0.,   0.,   0., 113., 241.,\n",
       "       241., 246., 253., 253., 253., 253., 253., 253., 253., 253., 253.,\n",
       "       253., 242.,  59.,   0.,   0.,   0.,   0.,   0.,   0.,   0.,   0.,\n",
       "         0.,   0.,   0.,   0., 118., 253., 253., 253., 253., 253., 221.,\n",
       "       149., 149., 119.,  40., 213., 253., 253., 107.,   0.,   0.,   0.,\n",
       "         0.,   0.,   0.,   0.,   0.,   0.,   0.,   0.,   0.,   0.,  12.,\n",
       "        83., 155., 106.,  25.,  25.,  18.,   0.,   0.,  23., 197., 253.,\n",
       "       253., 173.,  10.,   0.,   0.,   0.,   0.,   0.,   0.,   0.,   0.,\n",
       "         0.,   0.,   0.,   0.,   0.,   0.,   0.,   0.,   0.,   0.,   0.,\n",
       "         0.,   0.,  71., 196., 253., 253., 172.,  12.,   0.,   0.,   0.,\n",
       "         0.,   0.,   0.,   0.,   0.,   0.,   0.,   0.,   0.,   0.,   0.,\n",
       "         0.,   0.,   0.,   0.,   0.,   0.,  71., 123., 245., 253., 253.,\n",
       "       170.,  13.,   0.,   0.,   0.,   0.,   0.,   0.,   0.,   0.,   0.,\n",
       "         0.,   0.,   0.,   0.,   0.,   0.,   0.,   0.,   0.,  31., 126.,\n",
       "       209., 245., 253., 253., 253., 253., 222., 122.,  28.,   0.,   0.,\n",
       "         0.,   0.,   0.,   0.,   0.,   0.,   0.,   0.,   0.,   0.,   0.,\n",
       "         0.,   0.,   0.,   0., 135., 253., 253., 253., 233., 200., 253.,\n",
       "       253., 253., 253., 220., 115.,   0.,   0.,   0.,   0.,   0.,   0.,\n",
       "         0.,   0.,   0.,   0.,   0.,   0.,   0.,   0.,   0.,   0., 195.,\n",
       "       219., 198., 147.,  42.,  15.,  58.,  85., 188., 232., 253., 247.,\n",
       "       114.,   0.,   0.,   0.,   0.,   0.,   0.,   0.,   0.,   0.,   0.,\n",
       "         0.,   0.,   0.,   0.,   0.,  25.,  32.,  10.,   0.,   0.,   0.,\n",
       "         0.,   0.,   0.,  64., 202., 253., 234.,   0.,   0.,   0.,   0.,\n",
       "         0.,   0.,   0.,   0.,   0.,   0.,   0.,   0.,   0.,   0.,   0.,\n",
       "         0.,   0.,   0.,   0.,   0.,   0.,   0.,   0.,   0.,   0.,  33.,\n",
       "       253., 248., 107.,   0.,   0.,   0.,   0.,   0.,   0.,   0.,   0.,\n",
       "         0.,   0.,   0.,   0.,   0.,   0.,   0.,   0.,   0.,   0.,   0.,\n",
       "         0.,   0.,   0.,   0.,  28., 186., 253., 253., 217.,   0.,   0.,\n",
       "         0.,   0.,   0.,   0.,   0.,   0.,   0.,   0.,   0.,   0.,   0.,\n",
       "         0.,   0.,   0.,   0.,   0.,   0.,   0.,  10.,  40., 130., 182.,\n",
       "       253., 253., 220.,  37.,   0.,   0.,   0.,   0.,   0.,   0.,   0.,\n",
       "         0.,   0.,   0.,   0.,   0.,   0.,   0.,   0.,   0.,   0.,   0.,\n",
       "        27., 133., 184., 253., 253., 253., 249., 140.,  37.,   0.,   0.,\n",
       "         0.,   0.,   0.,   0.,   0.,   0.,   0.,   0.,   0.,   0.,   0.,\n",
       "         0.,   0.,   0.,  10.,  70., 156., 234., 253., 253., 253., 235.,\n",
       "       207.,  85.,   0.,   0.,   0.,   0.,   0.,   0.,   0.,   0.,   0.,\n",
       "         0.,   0.,   0.,   0.,   0.,   0.,   0.,   9.,  71., 187., 253.,\n",
       "       253., 253., 238., 203., 104.,  32.,   0.,   0.,   0.,   0.,   0.,\n",
       "         0.,   0.,   0.,   0.,   0.,   0.,   0.,   0.,   0.,   0.,   0.,\n",
       "         0.,  13., 179., 253., 253., 253., 242., 136.,  25.,   0.,   0.,\n",
       "         0.,   0.,   0.,   0.,   0.,   0.,   0.,   0.,   0.,   0.,   0.,\n",
       "         0.,   0.,   0.,   0.,   0.,   0.,  64., 248., 253., 253., 251.,\n",
       "       203.,  21.,   0.,   0.,   0.,   0.,   0.,   0.,   0.,   0.,   0.,\n",
       "         0.,   0.,   0.,   0.,   0.,   0.,   0.,   0.,   0.,   0.,   0.,\n",
       "         0.,  58., 247., 253., 203.,  79.,   0.,   0.,   0.,   0.,   0.,\n",
       "         0.,   0.,   0.,   0.,   0.,   0.,   0.,   0.,   0.,   0.,   0.,\n",
       "         0.,   0.,   0.,   0.,   0.,   0.,   0.,   0.,   0.,   0.,   0.,\n",
       "         0.,   0.,   0.,   0.,   0.,   0.,   0.,   0.,   0.,   0.,   0.,\n",
       "         0.,   0.,   0.,   0.,   0.,   0.,   0.,   0.,   0.,   0.,   0.,\n",
       "         0.,   0.,   0.,   0.,   0.,   0.,   0.,   0.,   0.,   0.,   0.,\n",
       "         0.,   0.,   0.,   0.,   0.,   0.,   0.,   0.,   0.,   0.,   0.,\n",
       "         0.,   0.,   0.])"
      ]
     },
     "execution_count": 22,
     "metadata": {},
     "output_type": "execute_result"
    }
   ],
   "source": [
    "ex_image"
   ]
  },
  {
   "cell_type": "code",
   "execution_count": 23,
   "metadata": {},
   "outputs": [
    {
     "ename": "TypeError",
     "evalue": "Invalid dimensions for image data",
     "output_type": "error",
     "traceback": [
      "\u001b[1;31m---------------------------------------------------------------------------\u001b[0m",
      "\u001b[1;31mTypeError\u001b[0m                                 Traceback (most recent call last)",
      "\u001b[1;32m<ipython-input-23-e10a8fcfd4db>\u001b[0m in \u001b[0;36m<module>\u001b[1;34m()\u001b[0m\n\u001b[1;32m----> 1\u001b[1;33m \u001b[0mplt\u001b[0m\u001b[1;33m.\u001b[0m\u001b[0mimshow\u001b[0m\u001b[1;33m(\u001b[0m\u001b[0mex_image\u001b[0m\u001b[1;33m)\u001b[0m\u001b[1;33m\u001b[0m\u001b[0m\n\u001b[0m",
      "\u001b[1;32mc:\\python27\\lib\\site-packages\\matplotlib\\pyplot.pyc\u001b[0m in \u001b[0;36mimshow\u001b[1;34m(X, cmap, norm, aspect, interpolation, alpha, vmin, vmax, origin, extent, shape, filternorm, filterrad, imlim, resample, url, hold, data, **kwargs)\u001b[0m\n\u001b[0;32m   3208\u001b[0m                         \u001b[0mfilternorm\u001b[0m\u001b[1;33m=\u001b[0m\u001b[0mfilternorm\u001b[0m\u001b[1;33m,\u001b[0m \u001b[0mfilterrad\u001b[0m\u001b[1;33m=\u001b[0m\u001b[0mfilterrad\u001b[0m\u001b[1;33m,\u001b[0m\u001b[1;33m\u001b[0m\u001b[0m\n\u001b[0;32m   3209\u001b[0m                         \u001b[0mimlim\u001b[0m\u001b[1;33m=\u001b[0m\u001b[0mimlim\u001b[0m\u001b[1;33m,\u001b[0m \u001b[0mresample\u001b[0m\u001b[1;33m=\u001b[0m\u001b[0mresample\u001b[0m\u001b[1;33m,\u001b[0m \u001b[0murl\u001b[0m\u001b[1;33m=\u001b[0m\u001b[0murl\u001b[0m\u001b[1;33m,\u001b[0m \u001b[0mdata\u001b[0m\u001b[1;33m=\u001b[0m\u001b[0mdata\u001b[0m\u001b[1;33m,\u001b[0m\u001b[1;33m\u001b[0m\u001b[0m\n\u001b[1;32m-> 3210\u001b[1;33m                         **kwargs)\n\u001b[0m\u001b[0;32m   3211\u001b[0m     \u001b[1;32mfinally\u001b[0m\u001b[1;33m:\u001b[0m\u001b[1;33m\u001b[0m\u001b[0m\n\u001b[0;32m   3212\u001b[0m         \u001b[0max\u001b[0m\u001b[1;33m.\u001b[0m\u001b[0m_hold\u001b[0m \u001b[1;33m=\u001b[0m \u001b[0mwashold\u001b[0m\u001b[1;33m\u001b[0m\u001b[0m\n",
      "\u001b[1;32mc:\\python27\\lib\\site-packages\\matplotlib\\__init__.pyc\u001b[0m in \u001b[0;36minner\u001b[1;34m(ax, *args, **kwargs)\u001b[0m\n\u001b[0;32m   1868\u001b[0m                         \u001b[1;34m\"the Matplotlib list!)\"\u001b[0m \u001b[1;33m%\u001b[0m \u001b[1;33m(\u001b[0m\u001b[0mlabel_namer\u001b[0m\u001b[1;33m,\u001b[0m \u001b[0mfunc\u001b[0m\u001b[1;33m.\u001b[0m\u001b[0m__name__\u001b[0m\u001b[1;33m)\u001b[0m\u001b[1;33m,\u001b[0m\u001b[1;33m\u001b[0m\u001b[0m\n\u001b[0;32m   1869\u001b[0m                         RuntimeWarning, stacklevel=2)\n\u001b[1;32m-> 1870\u001b[1;33m             \u001b[1;32mreturn\u001b[0m \u001b[0mfunc\u001b[0m\u001b[1;33m(\u001b[0m\u001b[0max\u001b[0m\u001b[1;33m,\u001b[0m \u001b[1;33m*\u001b[0m\u001b[0margs\u001b[0m\u001b[1;33m,\u001b[0m \u001b[1;33m**\u001b[0m\u001b[0mkwargs\u001b[0m\u001b[1;33m)\u001b[0m\u001b[1;33m\u001b[0m\u001b[0m\n\u001b[0m\u001b[0;32m   1871\u001b[0m \u001b[1;33m\u001b[0m\u001b[0m\n\u001b[0;32m   1872\u001b[0m         inner.__doc__ = _add_data_doc(inner.__doc__,\n",
      "\u001b[1;32mc:\\python27\\lib\\site-packages\\matplotlib\\axes\\_axes.pyc\u001b[0m in \u001b[0;36mimshow\u001b[1;34m(self, X, cmap, norm, aspect, interpolation, alpha, vmin, vmax, origin, extent, shape, filternorm, filterrad, imlim, resample, url, **kwargs)\u001b[0m\n\u001b[0;32m   5499\u001b[0m                               resample=resample, **kwargs)\n\u001b[0;32m   5500\u001b[0m \u001b[1;33m\u001b[0m\u001b[0m\n\u001b[1;32m-> 5501\u001b[1;33m         \u001b[0mim\u001b[0m\u001b[1;33m.\u001b[0m\u001b[0mset_data\u001b[0m\u001b[1;33m(\u001b[0m\u001b[0mX\u001b[0m\u001b[1;33m)\u001b[0m\u001b[1;33m\u001b[0m\u001b[0m\n\u001b[0m\u001b[0;32m   5502\u001b[0m         \u001b[0mim\u001b[0m\u001b[1;33m.\u001b[0m\u001b[0mset_alpha\u001b[0m\u001b[1;33m(\u001b[0m\u001b[0malpha\u001b[0m\u001b[1;33m)\u001b[0m\u001b[1;33m\u001b[0m\u001b[0m\n\u001b[0;32m   5503\u001b[0m         \u001b[1;32mif\u001b[0m \u001b[0mim\u001b[0m\u001b[1;33m.\u001b[0m\u001b[0mget_clip_path\u001b[0m\u001b[1;33m(\u001b[0m\u001b[1;33m)\u001b[0m \u001b[1;32mis\u001b[0m \u001b[0mNone\u001b[0m\u001b[1;33m:\u001b[0m\u001b[1;33m\u001b[0m\u001b[0m\n",
      "\u001b[1;32mc:\\python27\\lib\\site-packages\\matplotlib\\image.pyc\u001b[0m in \u001b[0;36mset_data\u001b[1;34m(self, A)\u001b[0m\n\u001b[0;32m    644\u001b[0m         if not (self._A.ndim == 2\n\u001b[0;32m    645\u001b[0m                 or self._A.ndim == 3 and self._A.shape[-1] in [3, 4]):\n\u001b[1;32m--> 646\u001b[1;33m             \u001b[1;32mraise\u001b[0m \u001b[0mTypeError\u001b[0m\u001b[1;33m(\u001b[0m\u001b[1;34m\"Invalid dimensions for image data\"\u001b[0m\u001b[1;33m)\u001b[0m\u001b[1;33m\u001b[0m\u001b[0m\n\u001b[0m\u001b[0;32m    647\u001b[0m \u001b[1;33m\u001b[0m\u001b[0m\n\u001b[0;32m    648\u001b[0m         \u001b[1;32mif\u001b[0m \u001b[0mself\u001b[0m\u001b[1;33m.\u001b[0m\u001b[0m_A\u001b[0m\u001b[1;33m.\u001b[0m\u001b[0mndim\u001b[0m \u001b[1;33m==\u001b[0m \u001b[1;36m3\u001b[0m\u001b[1;33m:\u001b[0m\u001b[1;33m\u001b[0m\u001b[0m\n",
      "\u001b[1;31mTypeError\u001b[0m: Invalid dimensions for image data"
     ]
    },
    {
     "data": {
      "image/png": "[encoded data removed]",
      "text/plain": [
       "<Figure size 432x288 with 1 Axes>"
      ]
     },
     "metadata": {
      "needs_background": "light"
     },
     "output_type": "display_data"
    }
   ],
   "source": [
    "plt.imshow(ex_image)"
   ]
  },
  {
   "cell_type": "code",
   "execution_count": 24,
   "metadata": {},
   "outputs": [
    {
     "ename": "TypeError",
     "evalue": "Invalid dimensions for image data",
     "output_type": "error",
     "traceback": [
      "\u001b[1;31m---------------------------------------------------------------------------\u001b[0m",
      "\u001b[1;31mTypeError\u001b[0m                                 Traceback (most recent call last)",
      "\u001b[1;32m<ipython-input-24-a14b8b166be5>\u001b[0m in \u001b[0;36m<module>\u001b[1;34m()\u001b[0m\n\u001b[1;32m----> 1\u001b[1;33m \u001b[0mplt\u001b[0m\u001b[1;33m.\u001b[0m\u001b[0mimshow\u001b[0m\u001b[1;33m(\u001b[0m\u001b[0mex_image\u001b[0m\u001b[1;33m,\u001b[0m \u001b[0mcmap\u001b[0m\u001b[1;33m=\u001b[0m\u001b[0mmatplotlib\u001b[0m\u001b[1;33m.\u001b[0m\u001b[0mcm\u001b[0m\u001b[1;33m.\u001b[0m\u001b[0mbinary\u001b[0m\u001b[1;33m)\u001b[0m\u001b[1;33m\u001b[0m\u001b[0m\n\u001b[0m",
      "\u001b[1;32mc:\\python27\\lib\\site-packages\\matplotlib\\pyplot.pyc\u001b[0m in \u001b[0;36mimshow\u001b[1;34m(X, cmap, norm, aspect, interpolation, alpha, vmin, vmax, origin, extent, shape, filternorm, filterrad, imlim, resample, url, hold, data, **kwargs)\u001b[0m\n\u001b[0;32m   3208\u001b[0m                         \u001b[0mfilternorm\u001b[0m\u001b[1;33m=\u001b[0m\u001b[0mfilternorm\u001b[0m\u001b[1;33m,\u001b[0m \u001b[0mfilterrad\u001b[0m\u001b[1;33m=\u001b[0m\u001b[0mfilterrad\u001b[0m\u001b[1;33m,\u001b[0m\u001b[1;33m\u001b[0m\u001b[0m\n\u001b[0;32m   3209\u001b[0m                         \u001b[0mimlim\u001b[0m\u001b[1;33m=\u001b[0m\u001b[0mimlim\u001b[0m\u001b[1;33m,\u001b[0m \u001b[0mresample\u001b[0m\u001b[1;33m=\u001b[0m\u001b[0mresample\u001b[0m\u001b[1;33m,\u001b[0m \u001b[0murl\u001b[0m\u001b[1;33m=\u001b[0m\u001b[0murl\u001b[0m\u001b[1;33m,\u001b[0m \u001b[0mdata\u001b[0m\u001b[1;33m=\u001b[0m\u001b[0mdata\u001b[0m\u001b[1;33m,\u001b[0m\u001b[1;33m\u001b[0m\u001b[0m\n\u001b[1;32m-> 3210\u001b[1;33m                         **kwargs)\n\u001b[0m\u001b[0;32m   3211\u001b[0m     \u001b[1;32mfinally\u001b[0m\u001b[1;33m:\u001b[0m\u001b[1;33m\u001b[0m\u001b[0m\n\u001b[0;32m   3212\u001b[0m         \u001b[0max\u001b[0m\u001b[1;33m.\u001b[0m\u001b[0m_hold\u001b[0m \u001b[1;33m=\u001b[0m \u001b[0mwashold\u001b[0m\u001b[1;33m\u001b[0m\u001b[0m\n",
      "\u001b[1;32mc:\\python27\\lib\\site-packages\\matplotlib\\__init__.pyc\u001b[0m in \u001b[0;36minner\u001b[1;34m(ax, *args, **kwargs)\u001b[0m\n\u001b[0;32m   1868\u001b[0m                         \u001b[1;34m\"the Matplotlib list!)\"\u001b[0m \u001b[1;33m%\u001b[0m \u001b[1;33m(\u001b[0m\u001b[0mlabel_namer\u001b[0m\u001b[1;33m,\u001b[0m \u001b[0mfunc\u001b[0m\u001b[1;33m.\u001b[0m\u001b[0m__name__\u001b[0m\u001b[1;33m)\u001b[0m\u001b[1;33m,\u001b[0m\u001b[1;33m\u001b[0m\u001b[0m\n\u001b[0;32m   1869\u001b[0m                         RuntimeWarning, stacklevel=2)\n\u001b[1;32m-> 1870\u001b[1;33m             \u001b[1;32mreturn\u001b[0m \u001b[0mfunc\u001b[0m\u001b[1;33m(\u001b[0m\u001b[0max\u001b[0m\u001b[1;33m,\u001b[0m \u001b[1;33m*\u001b[0m\u001b[0margs\u001b[0m\u001b[1;33m,\u001b[0m \u001b[1;33m**\u001b[0m\u001b[0mkwargs\u001b[0m\u001b[1;33m)\u001b[0m\u001b[1;33m\u001b[0m\u001b[0m\n\u001b[0m\u001b[0;32m   1871\u001b[0m \u001b[1;33m\u001b[0m\u001b[0m\n\u001b[0;32m   1872\u001b[0m         inner.__doc__ = _add_data_doc(inner.__doc__,\n",
      "\u001b[1;32mc:\\python27\\lib\\site-packages\\matplotlib\\axes\\_axes.pyc\u001b[0m in \u001b[0;36mimshow\u001b[1;34m(self, X, cmap, norm, aspect, interpolation, alpha, vmin, vmax, origin, extent, shape, filternorm, filterrad, imlim, resample, url, **kwargs)\u001b[0m\n\u001b[0;32m   5499\u001b[0m                               resample=resample, **kwargs)\n\u001b[0;32m   5500\u001b[0m \u001b[1;33m\u001b[0m\u001b[0m\n\u001b[1;32m-> 5501\u001b[1;33m         \u001b[0mim\u001b[0m\u001b[1;33m.\u001b[0m\u001b[0mset_data\u001b[0m\u001b[1;33m(\u001b[0m\u001b[0mX\u001b[0m\u001b[1;33m)\u001b[0m\u001b[1;33m\u001b[0m\u001b[0m\n\u001b[0m\u001b[0;32m   5502\u001b[0m         \u001b[0mim\u001b[0m\u001b[1;33m.\u001b[0m\u001b[0mset_alpha\u001b[0m\u001b[1;33m(\u001b[0m\u001b[0malpha\u001b[0m\u001b[1;33m)\u001b[0m\u001b[1;33m\u001b[0m\u001b[0m\n\u001b[0;32m   5503\u001b[0m         \u001b[1;32mif\u001b[0m \u001b[0mim\u001b[0m\u001b[1;33m.\u001b[0m\u001b[0mget_clip_path\u001b[0m\u001b[1;33m(\u001b[0m\u001b[1;33m)\u001b[0m \u001b[1;32mis\u001b[0m \u001b[0mNone\u001b[0m\u001b[1;33m:\u001b[0m\u001b[1;33m\u001b[0m\u001b[0m\n",
      "\u001b[1;32mc:\\python27\\lib\\site-packages\\matplotlib\\image.pyc\u001b[0m in \u001b[0;36mset_data\u001b[1;34m(self, A)\u001b[0m\n\u001b[0;32m    644\u001b[0m         if not (self._A.ndim == 2\n\u001b[0;32m    645\u001b[0m                 or self._A.ndim == 3 and self._A.shape[-1] in [3, 4]):\n\u001b[1;32m--> 646\u001b[1;33m             \u001b[1;32mraise\u001b[0m \u001b[0mTypeError\u001b[0m\u001b[1;33m(\u001b[0m\u001b[1;34m\"Invalid dimensions for image data\"\u001b[0m\u001b[1;33m)\u001b[0m\u001b[1;33m\u001b[0m\u001b[0m\n\u001b[0m\u001b[0;32m    647\u001b[0m \u001b[1;33m\u001b[0m\u001b[0m\n\u001b[0;32m    648\u001b[0m         \u001b[1;32mif\u001b[0m \u001b[0mself\u001b[0m\u001b[1;33m.\u001b[0m\u001b[0m_A\u001b[0m\u001b[1;33m.\u001b[0m\u001b[0mndim\u001b[0m \u001b[1;33m==\u001b[0m \u001b[1;36m3\u001b[0m\u001b[1;33m:\u001b[0m\u001b[1;33m\u001b[0m\u001b[0m\n",
      "\u001b[1;31mTypeError\u001b[0m: Invalid dimensions for image data"
     ]
    },
    {
     "data": {
      "image/png": "[encoded data removed]",
      "text/plain": [
       "<Figure size 432x288 with 1 Axes>"
      ]
     },
     "metadata": {
      "needs_background": "light"
     },
     "output_type": "display_data"
    }
   ],
   "source": [
    "plt.imshow(ex_image, cmap=matplotlib.cm.binary)"
   ]
  },
  {
   "cell_type": "code",
   "execution_count": 25,
   "metadata": {},
   "outputs": [
    {
     "ename": "ValueError",
     "evalue": "Illegal interpolation string",
     "output_type": "error",
     "traceback": [
      "\u001b[1;31m---------------------------------------------------------------------------\u001b[0m",
      "\u001b[1;31mValueError\u001b[0m                                Traceback (most recent call last)",
      "\u001b[1;32m<ipython-input-25-28ee579ea712>\u001b[0m in \u001b[0;36m<module>\u001b[1;34m()\u001b[0m\n\u001b[1;32m----> 1\u001b[1;33m \u001b[0mplt\u001b[0m\u001b[1;33m.\u001b[0m\u001b[0mimshow\u001b[0m\u001b[1;33m(\u001b[0m\u001b[0mex_image\u001b[0m\u001b[1;33m,\u001b[0m \u001b[0mcmap\u001b[0m\u001b[1;33m=\u001b[0m\u001b[0mmatplotlib\u001b[0m\u001b[1;33m.\u001b[0m\u001b[0mcm\u001b[0m\u001b[1;33m.\u001b[0m\u001b[0mbinary\u001b[0m\u001b[1;33m,\u001b[0m \u001b[0minterpolation\u001b[0m \u001b[1;33m=\u001b[0m \u001b[1;34m'nearesr'\u001b[0m\u001b[1;33m)\u001b[0m\u001b[1;33m\u001b[0m\u001b[0m\n\u001b[0m",
      "\u001b[1;32mc:\\python27\\lib\\site-packages\\matplotlib\\pyplot.pyc\u001b[0m in \u001b[0;36mimshow\u001b[1;34m(X, cmap, norm, aspect, interpolation, alpha, vmin, vmax, origin, extent, shape, filternorm, filterrad, imlim, resample, url, hold, data, **kwargs)\u001b[0m\n\u001b[0;32m   3208\u001b[0m                         \u001b[0mfilternorm\u001b[0m\u001b[1;33m=\u001b[0m\u001b[0mfilternorm\u001b[0m\u001b[1;33m,\u001b[0m \u001b[0mfilterrad\u001b[0m\u001b[1;33m=\u001b[0m\u001b[0mfilterrad\u001b[0m\u001b[1;33m,\u001b[0m\u001b[1;33m\u001b[0m\u001b[0m\n\u001b[0;32m   3209\u001b[0m                         \u001b[0mimlim\u001b[0m\u001b[1;33m=\u001b[0m\u001b[0mimlim\u001b[0m\u001b[1;33m,\u001b[0m \u001b[0mresample\u001b[0m\u001b[1;33m=\u001b[0m\u001b[0mresample\u001b[0m\u001b[1;33m,\u001b[0m \u001b[0murl\u001b[0m\u001b[1;33m=\u001b[0m\u001b[0murl\u001b[0m\u001b[1;33m,\u001b[0m \u001b[0mdata\u001b[0m\u001b[1;33m=\u001b[0m\u001b[0mdata\u001b[0m\u001b[1;33m,\u001b[0m\u001b[1;33m\u001b[0m\u001b[0m\n\u001b[1;32m-> 3210\u001b[1;33m                         **kwargs)\n\u001b[0m\u001b[0;32m   3211\u001b[0m     \u001b[1;32mfinally\u001b[0m\u001b[1;33m:\u001b[0m\u001b[1;33m\u001b[0m\u001b[0m\n\u001b[0;32m   3212\u001b[0m         \u001b[0max\u001b[0m\u001b[1;33m.\u001b[0m\u001b[0m_hold\u001b[0m \u001b[1;33m=\u001b[0m \u001b[0mwashold\u001b[0m\u001b[1;33m\u001b[0m\u001b[0m\n",
      "\u001b[1;32mc:\\python27\\lib\\site-packages\\matplotlib\\__init__.pyc\u001b[0m in \u001b[0;36minner\u001b[1;34m(ax, *args, **kwargs)\u001b[0m\n\u001b[0;32m   1868\u001b[0m                         \u001b[1;34m\"the Matplotlib list!)\"\u001b[0m \u001b[1;33m%\u001b[0m \u001b[1;33m(\u001b[0m\u001b[0mlabel_namer\u001b[0m\u001b[1;33m,\u001b[0m \u001b[0mfunc\u001b[0m\u001b[1;33m.\u001b[0m\u001b[0m__name__\u001b[0m\u001b[1;33m)\u001b[0m\u001b[1;33m,\u001b[0m\u001b[1;33m\u001b[0m\u001b[0m\n\u001b[0;32m   1869\u001b[0m                         RuntimeWarning, stacklevel=2)\n\u001b[1;32m-> 1870\u001b[1;33m             \u001b[1;32mreturn\u001b[0m \u001b[0mfunc\u001b[0m\u001b[1;33m(\u001b[0m\u001b[0max\u001b[0m\u001b[1;33m,\u001b[0m \u001b[1;33m*\u001b[0m\u001b[0margs\u001b[0m\u001b[1;33m,\u001b[0m \u001b[1;33m**\u001b[0m\u001b[0mkwargs\u001b[0m\u001b[1;33m)\u001b[0m\u001b[1;33m\u001b[0m\u001b[0m\n\u001b[0m\u001b[0;32m   1871\u001b[0m \u001b[1;33m\u001b[0m\u001b[0m\n\u001b[0;32m   1872\u001b[0m         inner.__doc__ = _add_data_doc(inner.__doc__,\n",
      "\u001b[1;32mc:\\python27\\lib\\site-packages\\matplotlib\\axes\\_axes.pyc\u001b[0m in \u001b[0;36mimshow\u001b[1;34m(self, X, cmap, norm, aspect, interpolation, alpha, vmin, vmax, origin, extent, shape, filternorm, filterrad, imlim, resample, url, **kwargs)\u001b[0m\n\u001b[0;32m   5497\u001b[0m         im = mimage.AxesImage(self, cmap, norm, interpolation, origin, extent,\n\u001b[0;32m   5498\u001b[0m                               \u001b[0mfilternorm\u001b[0m\u001b[1;33m=\u001b[0m\u001b[0mfilternorm\u001b[0m\u001b[1;33m,\u001b[0m \u001b[0mfilterrad\u001b[0m\u001b[1;33m=\u001b[0m\u001b[0mfilterrad\u001b[0m\u001b[1;33m,\u001b[0m\u001b[1;33m\u001b[0m\u001b[0m\n\u001b[1;32m-> 5499\u001b[1;33m                               resample=resample, **kwargs)\n\u001b[0m\u001b[0;32m   5500\u001b[0m \u001b[1;33m\u001b[0m\u001b[0m\n\u001b[0;32m   5501\u001b[0m         \u001b[0mim\u001b[0m\u001b[1;33m.\u001b[0m\u001b[0mset_data\u001b[0m\u001b[1;33m(\u001b[0m\u001b[0mX\u001b[0m\u001b[1;33m)\u001b[0m\u001b[1;33m\u001b[0m\u001b[0m\n",
      "\u001b[1;32mc:\\python27\\lib\\site-packages\\matplotlib\\image.pyc\u001b[0m in \u001b[0;36m__init__\u001b[1;34m(self, ax, cmap, norm, interpolation, origin, extent, filternorm, filterrad, resample, **kwargs)\u001b[0m\n\u001b[0;32m    815\u001b[0m             \u001b[0mfilterrad\u001b[0m\u001b[1;33m=\u001b[0m\u001b[0mfilterrad\u001b[0m\u001b[1;33m,\u001b[0m\u001b[1;33m\u001b[0m\u001b[0m\n\u001b[0;32m    816\u001b[0m             \u001b[0mresample\u001b[0m\u001b[1;33m=\u001b[0m\u001b[0mresample\u001b[0m\u001b[1;33m,\u001b[0m\u001b[1;33m\u001b[0m\u001b[0m\n\u001b[1;32m--> 817\u001b[1;33m             \u001b[1;33m**\u001b[0m\u001b[0mkwargs\u001b[0m\u001b[1;33m\u001b[0m\u001b[0m\n\u001b[0m\u001b[0;32m    818\u001b[0m         )\n\u001b[0;32m    819\u001b[0m \u001b[1;33m\u001b[0m\u001b[0m\n",
      "\u001b[1;32mc:\\python27\\lib\\site-packages\\matplotlib\\image.pyc\u001b[0m in \u001b[0;36m__init__\u001b[1;34m(self, ax, cmap, norm, interpolation, origin, filternorm, filterrad, resample, **kwargs)\u001b[0m\n\u001b[0;32m    233\u001b[0m         \u001b[0mself\u001b[0m\u001b[1;33m.\u001b[0m\u001b[0mset_filternorm\u001b[0m\u001b[1;33m(\u001b[0m\u001b[0mfilternorm\u001b[0m\u001b[1;33m)\u001b[0m\u001b[1;33m\u001b[0m\u001b[0m\n\u001b[0;32m    234\u001b[0m         \u001b[0mself\u001b[0m\u001b[1;33m.\u001b[0m\u001b[0mset_filterrad\u001b[0m\u001b[1;33m(\u001b[0m\u001b[0mfilterrad\u001b[0m\u001b[1;33m)\u001b[0m\u001b[1;33m\u001b[0m\u001b[0m\n\u001b[1;32m--> 235\u001b[1;33m         \u001b[0mself\u001b[0m\u001b[1;33m.\u001b[0m\u001b[0mset_interpolation\u001b[0m\u001b[1;33m(\u001b[0m\u001b[0minterpolation\u001b[0m\u001b[1;33m)\u001b[0m\u001b[1;33m\u001b[0m\u001b[0m\n\u001b[0m\u001b[0;32m    236\u001b[0m         \u001b[0mself\u001b[0m\u001b[1;33m.\u001b[0m\u001b[0mset_resample\u001b[0m\u001b[1;33m(\u001b[0m\u001b[0mresample\u001b[0m\u001b[1;33m)\u001b[0m\u001b[1;33m\u001b[0m\u001b[0m\n\u001b[0;32m    237\u001b[0m         \u001b[0mself\u001b[0m\u001b[1;33m.\u001b[0m\u001b[0maxes\u001b[0m \u001b[1;33m=\u001b[0m \u001b[0max\u001b[0m\u001b[1;33m\u001b[0m\u001b[0m\n",
      "\u001b[1;32mc:\\python27\\lib\\site-packages\\matplotlib\\image.pyc\u001b[0m in \u001b[0;36mset_interpolation\u001b[1;34m(self, s)\u001b[0m\n\u001b[0;32m    709\u001b[0m         \u001b[0ms\u001b[0m \u001b[1;33m=\u001b[0m \u001b[0ms\u001b[0m\u001b[1;33m.\u001b[0m\u001b[0mlower\u001b[0m\u001b[1;33m(\u001b[0m\u001b[1;33m)\u001b[0m\u001b[1;33m\u001b[0m\u001b[0m\n\u001b[0;32m    710\u001b[0m         \u001b[1;32mif\u001b[0m \u001b[0ms\u001b[0m \u001b[1;32mnot\u001b[0m \u001b[1;32min\u001b[0m \u001b[0m_interpd_\u001b[0m\u001b[1;33m:\u001b[0m\u001b[1;33m\u001b[0m\u001b[0m\n\u001b[1;32m--> 711\u001b[1;33m             \u001b[1;32mraise\u001b[0m \u001b[0mValueError\u001b[0m\u001b[1;33m(\u001b[0m\u001b[1;34m'Illegal interpolation string'\u001b[0m\u001b[1;33m)\u001b[0m\u001b[1;33m\u001b[0m\u001b[0m\n\u001b[0m\u001b[0;32m    712\u001b[0m         \u001b[0mself\u001b[0m\u001b[1;33m.\u001b[0m\u001b[0m_interpolation\u001b[0m \u001b[1;33m=\u001b[0m \u001b[0ms\u001b[0m\u001b[1;33m\u001b[0m\u001b[0m\n\u001b[0;32m    713\u001b[0m         \u001b[0mself\u001b[0m\u001b[1;33m.\u001b[0m\u001b[0mstale\u001b[0m \u001b[1;33m=\u001b[0m \u001b[0mTrue\u001b[0m\u001b[1;33m\u001b[0m\u001b[0m\n",
      "\u001b[1;31mValueError\u001b[0m: Illegal interpolation string"
     ]
    },
    {
     "data": {
      "image/png": "[encoded data removed]",
      "text/plain": [
       "<Figure size 432x288 with 1 Axes>"
      ]
     },
     "metadata": {
      "needs_background": "light"
     },
     "output_type": "display_data"
    }
   ],
   "source": [
    "plt.imshow(ex_image, cmap=matplotlib.cm.binary, interpolation = 'nearesr')"
   ]
  },
  {
   "cell_type": "code",
   "execution_count": 27,
   "metadata": {},
   "outputs": [
    {
     "data": {
      "text/plain": [
       "<matplotlib.image.AxesImage at 0x197c1608>"
      ]
     },
     "execution_count": 27,
     "metadata": {},
     "output_type": "execute_result"
    },
    {
     "data": {
      "image/png": "[encoded data removed]",
      "text/plain": [
       "<Figure size 432x288 with 1 Axes>"
      ]
     },
     "metadata": {
      "needs_background": "light"
     },
     "output_type": "display_data"
    }
   ],
   "source": [
    "plt.imshow(ex_image, cmap=matplotlib.cm.binary, interpolation = 'nearest')"
   ]
  },
  {
   "cell_type": "code",
   "execution_count": 28,
   "metadata": {},
   "outputs": [],
   "source": [
    "#to remove the axis"
   ]
  },
  {
   "cell_type": "code",
   "execution_count": 29,
   "metadata": {},
   "outputs": [
    {
     "data": {
      "text/plain": [
       "(0.0, 1.0, 0.0, 1.0)"
      ]
     },
     "execution_count": 29,
     "metadata": {},
     "output_type": "execute_result"
    },
    {
     "data": {
      "image/png": "[encoded data removed]",
      "text/plain": [
       "<Figure size 432x288 with 1 Axes>"
      ]
     },
     "metadata": {
      "needs_background": "light"
     },
     "output_type": "display_data"
    }
   ],
   "source": [
    "plt.axis(\"off\")"
   ]
  },
  {
   "cell_type": "code",
   "execution_count": 30,
   "metadata": {},
   "outputs": [
    {
     "data": {
      "text/plain": [
       "(0.0, 1.0, 0.0, 1.0)"
      ]
     },
     "execution_count": 30,
     "metadata": {},
     "output_type": "execute_result"
    },
    {
     "data": {
      "image/png": "[encoded data removed]",
      "text/plain": [
       "<Figure size 432x288 with 1 Axes>"
      ]
     },
     "metadata": {
      "needs_background": "light"
     },
     "output_type": "display_data"
    }
   ],
   "source": [
    "plt.axis(\"off\")"
   ]
  },
  {
   "cell_type": "code",
   "execution_count": 31,
   "metadata": {},
   "outputs": [
    {
     "data": {
      "text/plain": [
       "'3'"
      ]
     },
     "execution_count": 31,
     "metadata": {},
     "output_type": "execute_result"
    }
   ],
   "source": [
    "y[15125]"
   ]
  },
  {
   "cell_type": "markdown",
   "metadata": {},
   "source": [
    "# We got the correct result "
   ]
  },
  {
   "cell_type": "markdown",
   "metadata": {},
   "source": [
    "# x_train, x_test = x[:50000], x[50000:] Starting 50k is for training and rest is for testing"
   ]
  },
  {
   "cell_type": "code",
   "execution_count": 32,
   "metadata": {},
   "outputs": [],
   "source": [
    " x_train, x_test = x[:50000], x[50000:]"
   ]
  },
  {
   "cell_type": "code",
   "execution_count": 33,
   "metadata": {},
   "outputs": [],
   "source": [
    "  x_train, x_test = x[:50000], x[50000:]\n",
    "  y_train, y_test = y[:50000], y[50000:]"
   ]
  },
  {
   "cell_type": "code",
   "execution_count": 34,
   "metadata": {},
   "outputs": [],
   "source": [
    "import numpy as np"
   ]
  },
  {
   "cell_type": "code",
   "execution_count": 36,
   "metadata": {},
   "outputs": [],
   "source": [
    "shuffle_index = np.random.permutation(5000)"
   ]
  },
  {
   "cell_type": "code",
   "execution_count": 37,
   "metadata": {},
   "outputs": [],
   "source": [
    "  x_train, x_test = x[:50000], x[50000:]\n",
    "  y_train, y_test = y[:50000], y[50000:]\n",
    "x_train, y_train = x_train[shuffle_index], y_train[shuffle_index]"
   ]
  },
  {
   "cell_type": "code",
   "execution_count": null,
   "metadata": {},
   "outputs": [],
   "source": []
  },
  {
   "cell_type": "raw",
   "metadata": {},
   "source": [
    "# Creating a 3Detector"
   ]
  },
  {
   "cell_type": "code",
   "execution_count": 38,
   "metadata": {},
   "outputs": [
    {
     "data": {
      "text/plain": [
       "array([[0., 0., 0., ..., 0., 0., 0.],\n",
       "       [0., 0., 0., ..., 0., 0., 0.],\n",
       "       [0., 0., 0., ..., 0., 0., 0.],\n",
       "       ...,\n",
       "       [0., 0., 0., ..., 0., 0., 0.],\n",
       "       [0., 0., 0., ..., 0., 0., 0.],\n",
       "       [0., 0., 0., ..., 0., 0., 0.]])"
      ]
     },
     "execution_count": 38,
     "metadata": {},
     "output_type": "execute_result"
    }
   ],
   "source": [
    "x_train"
   ]
  },
  {
   "cell_type": "code",
   "execution_count": 39,
   "metadata": {},
   "outputs": [
    {
     "data": {
      "text/plain": [
       "array(['8', '8', '6', ..., '8', '1', '1'], dtype=object)"
      ]
     },
     "execution_count": 39,
     "metadata": {},
     "output_type": "execute_result"
    }
   ],
   "source": [
    "y_train"
   ]
  },
  {
   "cell_type": "code",
   "execution_count": 41,
   "metadata": {},
   "outputs": [
    {
     "data": {
      "text/plain": [
       "array([False, False, False, ..., False, False, False])"
      ]
     },
     "execution_count": 41,
     "metadata": {},
     "output_type": "execute_result"
    }
   ],
   "source": [
    "y_train"
   ]
  },
  {
   "cell_type": "code",
   "execution_count": 42,
   "metadata": {},
   "outputs": [
    {
     "ename": "IndentationError",
     "evalue": "unexpected indent (<ipython-input-42-2b9afc391b85>, line 2)",
     "output_type": "error",
     "traceback": [
      "\u001b[1;36m  File \u001b[1;32m\"<ipython-input-42-2b9afc391b85>\"\u001b[1;36m, line \u001b[1;32m2\u001b[0m\n\u001b[1;33m    y_train, y_test = y[:50000], y[50000:]\u001b[0m\n\u001b[1;37m    ^\u001b[0m\n\u001b[1;31mIndentationError\u001b[0m\u001b[1;31m:\u001b[0m unexpected indent\n"
     ]
    }
   ],
   "source": [
    " x_train, x_test = x[:50000], x[50000:]\n",
    "  y_train, y_test = y[:50000], y[50000:]\n",
    "x_train, y_train = x_train[shuffle_index], y_train[shuffle_index]"
   ]
  },
  {
   "cell_type": "code",
   "execution_count": 43,
   "metadata": {},
   "outputs": [],
   "source": [
    "x_train, x_test = x[:50000], x[50000:]\n",
    "y_train, y_test = y[:50000], y[50000:]\n",
    "x_train, y_train = x_train[shuffle_index], y_train[shuffle_index]"
   ]
  },
  {
   "cell_type": "code",
   "execution_count": 44,
   "metadata": {},
   "outputs": [
    {
     "data": {
      "text/plain": [
       "array(['8', '8', '6', ..., '8', '1', '1'], dtype=object)"
      ]
     },
     "execution_count": 44,
     "metadata": {},
     "output_type": "execute_result"
    }
   ],
   "source": [
    "y_train\n"
   ]
  },
  {
   "cell_type": "code",
   "execution_count": 45,
   "metadata": {},
   "outputs": [],
   "source": [
    "y_train_3 = (y_train == 3)"
   ]
  },
  {
   "cell_type": "code",
   "execution_count": 46,
   "metadata": {},
   "outputs": [],
   "source": [
    "y_test_3 = (y_test ==3)"
   ]
  },
  {
   "cell_type": "code",
   "execution_count": 47,
   "metadata": {},
   "outputs": [
    {
     "data": {
      "text/plain": [
       "array([False, False, False, ..., False, False, False])"
      ]
     },
     "execution_count": 47,
     "metadata": {},
     "output_type": "execute_result"
    }
   ],
   "source": [
    "y_train_3"
   ]
  },
  {
   "cell_type": "code",
   "execution_count": 48,
   "metadata": {},
   "outputs": [
    {
     "data": {
      "text/plain": [
       "array([False, False, False, ..., False, False, False])"
      ]
     },
     "execution_count": 48,
     "metadata": {},
     "output_type": "execute_result"
    }
   ],
   "source": [
    "y_test_3"
   ]
  },
  {
   "cell_type": "code",
   "execution_count": 49,
   "metadata": {},
   "outputs": [
    {
     "data": {
      "text/plain": [
       "array(['8', '8', '6', ..., '8', '1', '1'], dtype=object)"
      ]
     },
     "execution_count": 49,
     "metadata": {},
     "output_type": "execute_result"
    }
   ],
   "source": [
    "y_train"
   ]
  },
  {
   "cell_type": "code",
   "execution_count": 50,
   "metadata": {},
   "outputs": [],
   "source": [
    "y_train = y_train.astype(np.int8)\n",
    "y_test = y_test.astype(np.int8)\n",
    "y_train_3 = (y_train==3)\n",
    "y_test_3 = (y_test==3)"
   ]
  },
  {
   "cell_type": "code",
   "execution_count": 51,
   "metadata": {},
   "outputs": [
    {
     "data": {
      "text/plain": [
       "array([8, 8, 6, ..., 8, 1, 1], dtype=int8)"
      ]
     },
     "execution_count": 51,
     "metadata": {},
     "output_type": "execute_result"
    }
   ],
   "source": [
    "y_train"
   ]
  },
  {
   "cell_type": "markdown",
   "metadata": {},
   "source": [
    "# Converted the array from string to int"
   ]
  },
  {
   "cell_type": "code",
   "execution_count": 52,
   "metadata": {},
   "outputs": [],
   "source": [
    "from sklearn.linear_model import LogisticRegression"
   ]
  },
  {
   "cell_type": "code",
   "execution_count": 53,
   "metadata": {},
   "outputs": [],
   "source": [
    "clasf = LogisticRegression()"
   ]
  },
  {
   "cell_type": "code",
   "execution_count": 54,
   "metadata": {},
   "outputs": [
    {
     "data": {
      "text/plain": [
       "LogisticRegression(C=1.0, class_weight=None, dual=False, fit_intercept=True,\n",
       "          intercept_scaling=1, max_iter=100, multi_class='warn',\n",
       "          n_jobs=None, penalty='l2', random_state=None, solver='warn',\n",
       "          tol=0.0001, verbose=0, warm_start=False)"
      ]
     },
     "execution_count": 54,
     "metadata": {},
     "output_type": "execute_result"
    }
   ],
   "source": [
    "clasf"
   ]
  },
  {
   "cell_type": "code",
   "execution_count": 55,
   "metadata": {},
   "outputs": [
    {
     "name": "stderr",
     "output_type": "stream",
     "text": [
      "c:\\python27\\lib\\site-packages\\sklearn\\linear_model\\logistic.py:433: FutureWarning: Default solver will be changed to 'lbfgs' in 0.22. Specify a solver to silence this warning.\n",
      "  FutureWarning)\n"
     ]
    },
    {
     "data": {
      "text/plain": [
       "LogisticRegression(C=1.0, class_weight=None, dual=False, fit_intercept=True,\n",
       "          intercept_scaling=1, max_iter=100, multi_class='warn',\n",
       "          n_jobs=None, penalty='l2', random_state=None, solver='warn',\n",
       "          tol=0.0001, verbose=0, warm_start=False)"
      ]
     },
     "execution_count": 55,
     "metadata": {},
     "output_type": "execute_result"
    }
   ],
   "source": [
    "clasf.fit(x_train, y_train_3)"
   ]
  },
  {
   "cell_type": "code",
   "execution_count": 56,
   "metadata": {},
   "outputs": [
    {
     "data": {
      "text/plain": [
       "array([ True])"
      ]
     },
     "execution_count": 56,
     "metadata": {},
     "output_type": "execute_result"
    }
   ],
   "source": [
    "clasf.predict([ex])"
   ]
  },
  {
   "cell_type": "code",
   "execution_count": 57,
   "metadata": {},
   "outputs": [],
   "source": [
    "from sklearn.model_selection import cross_val_score\n"
   ]
  },
  {
   "cell_type": "code",
   "execution_count": 59,
   "metadata": {},
   "outputs": [],
   "source": [
    "abc = cross_val_score(clasf,x_train,y_train_3, cv = 3, scoring = 'accuracy')"
   ]
  },
  {
   "cell_type": "code",
   "execution_count": 60,
   "metadata": {
    "scrolled": true
   },
   "outputs": [
    {
     "data": {
      "text/plain": [
       "0.9439996622150059"
      ]
     },
     "execution_count": 60,
     "metadata": {},
     "output_type": "execute_result"
    }
   ],
   "source": [
    "abc.mean()"
   ]
  },
  {
   "cell_type": "markdown",
   "metadata": {},
   "source": [
    "# 94 % Accuracy"
   ]
  },
  {
   "cell_type": "code",
   "execution_count": null,
   "metadata": {},
   "outputs": [],
   "source": []
  },
  {
   "cell_type": "code",
   "execution_count": null,
   "metadata": {},
   "outputs": [],
   "source": []
  }
 ],
 "metadata": {
  "kernelspec": {
   "display_name": "Python 2",
   "language": "python",
   "name": "python2"
  },
  "language_info": {
   "codemirror_mode": {
    "name": "ipython",
    "version": 2
   },
   "file_extension": ".py",
   "mimetype": "text/x-python",
   "name": "python",
   "nbconvert_exporter": "python",
   "pygments_lexer": "ipython2",
   "version": "2.7.18"
  }
 },
 "nbformat": 4,
 "nbformat_minor": 2
}
